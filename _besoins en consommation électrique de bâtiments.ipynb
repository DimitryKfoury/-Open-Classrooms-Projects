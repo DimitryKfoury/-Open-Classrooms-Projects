{
 "cells": [
  {
   "cell_type": "code",
   "execution_count": 1,
   "id": "0f43b026",
   "metadata": {},
   "outputs": [],
   "source": [
    "import pandas as pd\n",
    "import numpy as np\n",
    "import matplotlib.pyplot as plt\n",
    "import seaborn as sns\n",
    "import missingno\n",
    "import ast\n",
    "from geopy.distance import geodesic as GD\n",
    "from sklearn import decomposition\n",
    "from sklearn import preprocessing\n",
    "from sklearn.svm import SVC\n",
    "from sklearn.impute import SimpleImputer\n",
    "from sklearn.preprocessing import StandardScaler\n",
    "from sklearn.preprocessing import RobustScaler\n",
    "from sklearn.linear_model import LinearRegression\n",
    "from sklearn.dummy import DummyRegressor\n",
    "from sklearn.linear_model import ElasticNet\n",
    "from sklearn.ensemble import RandomForestRegressor\n",
    "from sklearn import model_selection\n",
    "from sklearn.model_selection import train_test_split, GridSearchCV\n",
    "from sklearn.metrics import r2_score\n",
    "from sklearn.metrics import accuracy_score\n",
    "from sklearn.pipeline import Pipeline\n",
    "from sklearn.compose import ColumnTransformer\n",
    "from sklearn.compose import TransformedTargetRegressor\n",
    "from category_encoders import TargetEncoder\n",
    "import sklearn"
   ]
  },
  {
   "cell_type": "code",
   "execution_count": 2,
   "id": "47fe81e3",
   "metadata": {},
   "outputs": [],
   "source": [
    "data_2015=pd.read_csv(r'C:\\Users\\Kfoury\\Downloads\\2015_building_energy_benchmarking\\2015_building_energy_benchmarking.csv')\n",
    "data_2016=pd.read_csv(r'C:\\Users\\Kfoury\\Downloads\\2016_building_energy_benchmarking\\2016_building_energy_benchmarking.csv')"
   ]
  },
  {
   "cell_type": "markdown",
   "id": "1b5514cb",
   "metadata": {},
   "source": [
    "# Comparaison 2015 et 2016"
   ]
  },
  {
   "cell_type": "code",
   "execution_count": 3,
   "id": "e3a67522",
   "metadata": {
    "scrolled": true
   },
   "outputs": [
    {
     "name": "stdout",
     "output_type": "stream",
     "text": [
      "Les colonnes 2016 et pas 2015: ['Address', 'City', 'State', 'ZipCode', 'Latitude', 'Longitude', 'Comments', 'TotalGHGEmissions', 'GHGEmissionsIntensity']\n",
      "Les colonnes communes pour 2015 et 2016: ['OSEBuildingID', 'DataYear', 'BuildingType', 'PrimaryPropertyType', 'PropertyName', 'TaxParcelIdentificationNumber', 'CouncilDistrictCode', 'Neighborhood', 'YearBuilt', 'NumberofBuildings', 'NumberofFloors', 'PropertyGFATotal', 'PropertyGFAParking', 'PropertyGFABuilding(s)', 'ListOfAllPropertyUseTypes', 'LargestPropertyUseType', 'LargestPropertyUseTypeGFA', 'SecondLargestPropertyUseType', 'SecondLargestPropertyUseTypeGFA', 'ThirdLargestPropertyUseType', 'ThirdLargestPropertyUseTypeGFA', 'YearsENERGYSTARCertified', 'ENERGYSTARScore', 'SiteEUI(kBtu/sf)', 'SiteEUIWN(kBtu/sf)', 'SourceEUI(kBtu/sf)', 'SourceEUIWN(kBtu/sf)', 'SiteEnergyUse(kBtu)', 'SiteEnergyUseWN(kBtu)', 'SteamUse(kBtu)', 'Electricity(kWh)', 'Electricity(kBtu)', 'NaturalGas(therms)', 'NaturalGas(kBtu)', 'DefaultData', 'ComplianceStatus', 'Outlier']\n",
      "Les colonnes 2015 et pas 2016: ['Location', 'OtherFuelUse(kBtu)', 'GHGEmissions(MetricTonsCO2e)', 'GHGEmissionsIntensity(kgCO2e/ft2)', 'Comment', '2010 Census Tracts', 'Seattle Police Department Micro Community Policing Plan Areas', 'City Council Districts', 'SPD Beats', 'Zip Codes']\n"
     ]
    }
   ],
   "source": [
    "NOT_2015=[]\n",
    "Commun=[]\n",
    "NOT_2016=[]\n",
    "\n",
    "for column in data_2016.columns:\n",
    "    \n",
    "    if column not in(data_2015.columns):\n",
    "        NOT_2015.append(column)  \n",
    "    else:\n",
    "        Commun.append(column)\n",
    "\n",
    "for column in data_2015.columns:\n",
    "    if column not in(data_2016.columns):\n",
    "        NOT_2016.append(column)  \n",
    "print('Les colonnes 2016 et pas 2015:',NOT_2015)\n",
    "\n",
    "print('Les colonnes communes pour 2015 et 2016:',Commun)\n",
    "\n",
    "print('Les colonnes 2015 et pas 2016:',NOT_2016)     "
   ]
  },
  {
   "cell_type": "markdown",
   "id": "d36028b0",
   "metadata": {},
   "source": [
    "### Transfomation de la colonne 'Location' en plusieurs colonnes"
   ]
  },
  {
   "cell_type": "code",
   "execution_count": 4,
   "id": "e761c3ca",
   "metadata": {},
   "outputs": [],
   "source": [
    "dict_trans=data_2015['Location'].apply(ast.literal_eval)\n",
    "for i in range(len(data_2015)):\n",
    "    data_2015.loc[i,'Latitude']=dict_trans[i]['latitude']\n",
    "    data_2015.loc[i,'Longitude']=dict_trans[i]['longitude']\n",
    "    data_2015.loc[i,'human_address']=dict_trans[i]['human_address']\n",
    "dict_trans=data_2015['human_address'].apply(ast.literal_eval)\n",
    "for i in range(len(data_2015)):\n",
    "    data_2015.loc[i,'Address']=dict_trans[i]['address']\n",
    "    data_2015.loc[i,'City']=dict_trans[i]['city']\n",
    "    data_2015.loc[i,'State']=dict_trans[i]['state']\n",
    "    data_2015.loc[i,'ZipCode']=dict_trans[i]['zip']\n",
    "data_2015.drop('Location',inplace=True,axis=1)    \n",
    "data_2015.drop('human_address',inplace=True,axis=1)  "
   ]
  },
  {
   "cell_type": "code",
   "execution_count": 5,
   "id": "2a8e2bdf",
   "metadata": {},
   "outputs": [],
   "source": [
    "data_2015[['Street_number','Street_name']] = data_2015['Address'].str.split(n=1, expand=True)"
   ]
  },
  {
   "cell_type": "code",
   "execution_count": 6,
   "id": "50940e16",
   "metadata": {},
   "outputs": [],
   "source": [
    "data=pd.concat([data_2015,data_2016],axis=0)"
   ]
  },
  {
   "cell_type": "markdown",
   "id": "e97886a9",
   "metadata": {},
   "source": [
    "### Differentes nomenclatures de la colonne émission (en 2015 et 2016)"
   ]
  },
  {
   "cell_type": "code",
   "execution_count": 7,
   "id": "642bbd77",
   "metadata": {},
   "outputs": [
    {
     "name": "stdout",
     "output_type": "stream",
     "text": [
      "count     3330.000000\n",
      "mean       110.094102\n",
      "std        409.450179\n",
      "min          0.000000\n",
      "25%          9.265000\n",
      "50%         32.740000\n",
      "75%         88.642500\n",
      "max      11824.890000\n",
      "Name: GHGEmissions(MetricTonsCO2e), dtype: float64\n",
      "count     3367.000000\n",
      "mean       119.723971\n",
      "std        538.832227\n",
      "min         -0.800000\n",
      "25%          9.495000\n",
      "50%         33.920000\n",
      "75%         93.940000\n",
      "max      16870.980000\n",
      "Name: TotalGHGEmissions, dtype: float64\n"
     ]
    }
   ],
   "source": [
    "print(data['GHGEmissions(MetricTonsCO2e)'].describe())\n",
    "print(data['TotalGHGEmissions'].describe())"
   ]
  },
  {
   "cell_type": "code",
   "execution_count": 8,
   "id": "031fa85e",
   "metadata": {},
   "outputs": [],
   "source": [
    "data[['TotalGHGEmissions']].fillna(data[['GHGEmissions(MetricTonsCO2e)','TotalGHGEmissions']].mean(axis=1),inplace=True)"
   ]
  },
  {
   "cell_type": "code",
   "execution_count": 9,
   "id": "cadde8ef",
   "metadata": {},
   "outputs": [],
   "source": [
    "data.drop('GHGEmissions(MetricTonsCO2e)',axis=1,inplace=True)"
   ]
  },
  {
   "cell_type": "code",
   "execution_count": 10,
   "id": "a867ae08",
   "metadata": {},
   "outputs": [
    {
     "data": {
      "text/plain": [
       "OSEBuildingID                                                      int64\n",
       "DataYear                                                           int64\n",
       "BuildingType                                                      object\n",
       "PrimaryPropertyType                                               object\n",
       "PropertyName                                                      object\n",
       "TaxParcelIdentificationNumber                                     object\n",
       "CouncilDistrictCode                                                int64\n",
       "Neighborhood                                                      object\n",
       "YearBuilt                                                          int64\n",
       "NumberofBuildings                                                float64\n",
       "NumberofFloors                                                   float64\n",
       "PropertyGFATotal                                                   int64\n",
       "PropertyGFAParking                                                 int64\n",
       "PropertyGFABuilding(s)                                             int64\n",
       "ListOfAllPropertyUseTypes                                         object\n",
       "LargestPropertyUseType                                            object\n",
       "LargestPropertyUseTypeGFA                                        float64\n",
       "SecondLargestPropertyUseType                                      object\n",
       "SecondLargestPropertyUseTypeGFA                                  float64\n",
       "ThirdLargestPropertyUseType                                       object\n",
       "ThirdLargestPropertyUseTypeGFA                                   float64\n",
       "YearsENERGYSTARCertified                                          object\n",
       "ENERGYSTARScore                                                  float64\n",
       "SiteEUI(kBtu/sf)                                                 float64\n",
       "SiteEUIWN(kBtu/sf)                                               float64\n",
       "SourceEUI(kBtu/sf)                                               float64\n",
       "SourceEUIWN(kBtu/sf)                                             float64\n",
       "SiteEnergyUse(kBtu)                                              float64\n",
       "SiteEnergyUseWN(kBtu)                                            float64\n",
       "SteamUse(kBtu)                                                   float64\n",
       "Electricity(kWh)                                                 float64\n",
       "Electricity(kBtu)                                                float64\n",
       "NaturalGas(therms)                                               float64\n",
       "NaturalGas(kBtu)                                                 float64\n",
       "OtherFuelUse(kBtu)                                               float64\n",
       "GHGEmissionsIntensity(kgCO2e/ft2)                                float64\n",
       "DefaultData                                                       object\n",
       "Comment                                                           object\n",
       "ComplianceStatus                                                  object\n",
       "Outlier                                                           object\n",
       "2010 Census Tracts                                               float64\n",
       "Seattle Police Department Micro Community Policing Plan Areas    float64\n",
       "City Council Districts                                           float64\n",
       "SPD Beats                                                        float64\n",
       "Zip Codes                                                        float64\n",
       "Latitude                                                          object\n",
       "Longitude                                                         object\n",
       "Address                                                           object\n",
       "City                                                              object\n",
       "State                                                             object\n",
       "ZipCode                                                           object\n",
       "Street_number                                                     object\n",
       "Street_name                                                       object\n",
       "Comments                                                         float64\n",
       "TotalGHGEmissions                                                float64\n",
       "GHGEmissionsIntensity                                            float64\n",
       "dtype: object"
      ]
     },
     "execution_count": 10,
     "metadata": {},
     "output_type": "execute_result"
    }
   ],
   "source": [
    "data.dtypes"
   ]
  },
  {
   "cell_type": "code",
   "execution_count": 11,
   "id": "6415eecd",
   "metadata": {},
   "outputs": [
    {
     "data": {
      "text/plain": [
       "Index(['OSEBuildingID', 'DataYear', 'BuildingType', 'PrimaryPropertyType',\n",
       "       'PropertyName', 'TaxParcelIdentificationNumber', 'CouncilDistrictCode',\n",
       "       'Neighborhood', 'YearBuilt', 'NumberofBuildings', 'NumberofFloors',\n",
       "       'PropertyGFATotal', 'PropertyGFAParking', 'PropertyGFABuilding(s)',\n",
       "       'ListOfAllPropertyUseTypes', 'LargestPropertyUseType',\n",
       "       'LargestPropertyUseTypeGFA', 'SecondLargestPropertyUseType',\n",
       "       'SecondLargestPropertyUseTypeGFA', 'ThirdLargestPropertyUseType',\n",
       "       'ThirdLargestPropertyUseTypeGFA', 'YearsENERGYSTARCertified',\n",
       "       'ENERGYSTARScore', 'SiteEUI(kBtu/sf)', 'SiteEUIWN(kBtu/sf)',\n",
       "       'SourceEUI(kBtu/sf)', 'SourceEUIWN(kBtu/sf)', 'SiteEnergyUse(kBtu)',\n",
       "       'SiteEnergyUseWN(kBtu)', 'SteamUse(kBtu)', 'Electricity(kWh)',\n",
       "       'Electricity(kBtu)', 'NaturalGas(therms)', 'NaturalGas(kBtu)',\n",
       "       'OtherFuelUse(kBtu)', 'GHGEmissionsIntensity(kgCO2e/ft2)',\n",
       "       'DefaultData', 'Comment', 'ComplianceStatus', 'Outlier',\n",
       "       '2010 Census Tracts',\n",
       "       'Seattle Police Department Micro Community Policing Plan Areas',\n",
       "       'City Council Districts', 'SPD Beats', 'Zip Codes', 'Latitude',\n",
       "       'Longitude', 'Address', 'City', 'State', 'ZipCode', 'Street_number',\n",
       "       'Street_name', 'Comments', 'TotalGHGEmissions',\n",
       "       'GHGEmissionsIntensity'],\n",
       "      dtype='object')"
      ]
     },
     "execution_count": 11,
     "metadata": {},
     "output_type": "execute_result"
    }
   ],
   "source": [
    "data.columns"
   ]
  },
  {
   "cell_type": "code",
   "execution_count": 12,
   "id": "2559ae39",
   "metadata": {},
   "outputs": [],
   "source": [
    "Quantitative=['OSEBuildingID',\n",
    "             'PropertyGFATotal', 'PropertyGFAParking', 'PropertyGFABuilding(s)',\n",
    "             'LargestPropertyUseTypeGFA','SecondLargestPropertyUseTypeGFA',\n",
    "             'ThirdLargestPropertyUseTypeGFA','ENERGYSTARScore', 'SiteEUI(kBtu/sf)',\n",
    "             'SiteEUIWN(kBtu/sf)','SourceEUI(kBtu/sf)', 'SourceEUIWN(kBtu/sf)', \n",
    "             'SiteEnergyUse(kBtu)','SiteEnergyUseWN(kBtu)', 'SteamUse(kBtu)',\n",
    "             'Electricity(kWh)','Electricity(kBtu)', 'NaturalGas(therms)',\n",
    "             'NaturalGas(kBtu)','OtherFuelUse(kBtu)',\n",
    "             'GHGEmissionsIntensity(kgCO2e/ft2)','TotalGHGEmissions', 'GHGEmissionsIntensity']\n",
    "Qualitative=['OSEBuildingID', 'BuildingType', 'PrimaryPropertyType',\n",
    "       'PropertyName', 'TaxParcelIdentificationNumber', 'CouncilDistrictCode',\n",
    "       'Neighborhood', 'YearBuilt', 'NumberofBuildings', 'NumberofFloors',\n",
    "       'ListOfAllPropertyUseTypes', 'LargestPropertyUseType',\n",
    "        'SecondLargestPropertyUseType',\n",
    "       'ThirdLargestPropertyUseType',\n",
    "       'YearsENERGYSTARCertified',\n",
    "       'DefaultData', 'Comment',\n",
    "       'ComplianceStatus', 'Outlier', '2010 Census Tracts',\n",
    "       'Seattle Police Department Micro Community Policing Plan Areas',\n",
    "       'City Council Districts', 'SPD Beats', 'Zip Codes', 'Latitude',\n",
    "       'Longitude', 'Street_name', 'City', 'State', 'ZipCode', 'Comments']"
   ]
  },
  {
   "cell_type": "code",
   "execution_count": 13,
   "id": "ffcbce26",
   "metadata": {},
   "outputs": [],
   "source": [
    "Quant_data=data[Quantitative]\n",
    "Qual_data=data[Qualitative]\n"
   ]
  },
  {
   "cell_type": "code",
   "execution_count": 14,
   "id": "4eabfd2a",
   "metadata": {
    "scrolled": true
   },
   "outputs": [],
   "source": [
    "Quant_groupby=Quant_data.groupby('OSEBuildingID').mean()\n",
    "Qual_groupby=Qual_data.groupby('OSEBuildingID').last()\n",
    "df=pd.merge(Quant_groupby,Qual_groupby, left_index=True, right_index=True)"
   ]
  },
  {
   "cell_type": "code",
   "execution_count": 15,
   "id": "d9eb1b9b",
   "metadata": {},
   "outputs": [],
   "source": [
    "for i in df.index:\n",
    "    df.loc[i,'Distance_From_Center']=GD((df.loc[i,'Latitude'], df.loc[i,'Longitude']),(+47.62198, -122.35166)).km"
   ]
  },
  {
   "cell_type": "code",
   "execution_count": null,
   "id": "7eefef5a",
   "metadata": {},
   "outputs": [],
   "source": []
  },
  {
   "cell_type": "code",
   "execution_count": 16,
   "id": "44d341cf",
   "metadata": {},
   "outputs": [],
   "source": [
    "df['Age']=2016-df['YearBuilt']"
   ]
  },
  {
   "cell_type": "code",
   "execution_count": 17,
   "id": "906d6851",
   "metadata": {},
   "outputs": [
    {
     "data": {
      "text/plain": [
       "PropertyGFATotal                                                 0.000000\n",
       "PropertyGFAParking                                               0.000000\n",
       "PropertyGFABuilding(s)                                           0.000000\n",
       "LargestPropertyUseTypeGFA                                        0.008741\n",
       "SecondLargestPropertyUseTypeGFA                                  0.503497\n",
       "ThirdLargestPropertyUseTypeGFA                                   0.823135\n",
       "ENERGYSTARScore                                                  0.226107\n",
       "SiteEUI(kBtu/sf)                                                 0.000874\n",
       "SiteEUIWN(kBtu/sf)                                               0.000874\n",
       "SourceEUI(kBtu/sf)                                               0.001166\n",
       "SourceEUIWN(kBtu/sf)                                             0.001166\n",
       "SiteEnergyUse(kBtu)                                              0.000874\n",
       "SiteEnergyUseWN(kBtu)                                            0.000874\n",
       "SteamUse(kBtu)                                                   0.001166\n",
       "Electricity(kWh)                                                 0.001166\n",
       "Electricity(kBtu)                                                0.001166\n",
       "NaturalGas(therms)                                               0.001166\n",
       "NaturalGas(kBtu)                                                 0.001166\n",
       "OtherFuelUse(kBtu)                                               0.029720\n",
       "GHGEmissionsIntensity(kgCO2e/ft2)                                0.029720\n",
       "TotalGHGEmissions                                                0.018939\n",
       "GHGEmissionsIntensity                                            0.018939\n",
       "BuildingType                                                     0.000000\n",
       "PrimaryPropertyType                                              0.000000\n",
       "PropertyName                                                     0.000000\n",
       "TaxParcelIdentificationNumber                                    0.000291\n",
       "CouncilDistrictCode                                              0.000000\n",
       "Neighborhood                                                     0.000000\n",
       "YearBuilt                                                        0.000000\n",
       "NumberofBuildings                                                0.000291\n",
       "NumberofFloors                                                   0.000000\n",
       "ListOfAllPropertyUseTypes                                        0.006993\n",
       "LargestPropertyUseType                                           0.008741\n",
       "SecondLargestPropertyUseType                                     0.503497\n",
       "ThirdLargestPropertyUseType                                      0.823135\n",
       "YearsENERGYSTARCertified                                         0.964161\n",
       "DefaultData                                                      0.000000\n",
       "Comment                                                          0.996212\n",
       "ComplianceStatus                                                 0.000000\n",
       "Outlier                                                          0.971737\n",
       "2010 Census Tracts                                               0.934732\n",
       "Seattle Police Department Micro Community Policing Plan Areas    0.027389\n",
       "City Council Districts                                           0.937937\n",
       "SPD Beats                                                        0.027389\n",
       "Zip Codes                                                        0.026807\n",
       "Latitude                                                         0.000000\n",
       "Longitude                                                        0.000000\n",
       "Street_name                                                      0.026807\n",
       "City                                                             0.000000\n",
       "State                                                            0.000000\n",
       "ZipCode                                                          0.004662\n",
       "Comments                                                         1.000000\n",
       "Distance_From_Center                                             0.000000\n",
       "Age                                                              0.000000\n",
       "dtype: float64"
      ]
     },
     "execution_count": 17,
     "metadata": {},
     "output_type": "execute_result"
    }
   ],
   "source": [
    "df.isna().mean()"
   ]
  },
  {
   "cell_type": "markdown",
   "id": "f085b4fc",
   "metadata": {},
   "source": [
    "**Nombre de valeures nulles des colonnes *TotalGHGEmissions* et *SiteEnergyUse(kBtu)***"
   ]
  },
  {
   "cell_type": "code",
   "execution_count": 18,
   "id": "4fa5430e",
   "metadata": {},
   "outputs": [
    {
     "data": {
      "text/plain": [
       "(11, 54)"
      ]
     },
     "execution_count": 18,
     "metadata": {},
     "output_type": "execute_result"
    }
   ],
   "source": [
    "df[(df['TotalGHGEmissions']<=0) |(df['SiteEnergyUse(kBtu)']<=0)].shape"
   ]
  },
  {
   "cell_type": "code",
   "execution_count": 19,
   "id": "ebfced3e",
   "metadata": {},
   "outputs": [],
   "source": [
    "df=df[df['TotalGHGEmissions']>0]\n",
    "df=df[df['SiteEnergyUse(kBtu)']>0]"
   ]
  },
  {
   "cell_type": "markdown",
   "id": "585606f1",
   "metadata": {},
   "source": [
    "## Y vs log(Y)"
   ]
  },
  {
   "cell_type": "code",
   "execution_count": 20,
   "id": "1734dd8a",
   "metadata": {},
   "outputs": [
    {
     "data": {
      "text/html": [
       "<div>\n",
       "<style scoped>\n",
       "    .dataframe tbody tr th:only-of-type {\n",
       "        vertical-align: middle;\n",
       "    }\n",
       "\n",
       "    .dataframe tbody tr th {\n",
       "        vertical-align: top;\n",
       "    }\n",
       "\n",
       "    .dataframe thead th {\n",
       "        text-align: right;\n",
       "    }\n",
       "</style>\n",
       "<table border=\"1\" class=\"dataframe\">\n",
       "  <thead>\n",
       "    <tr style=\"text-align: right;\">\n",
       "      <th></th>\n",
       "      <th>SiteEnergyUse(kBtu)</th>\n",
       "    </tr>\n",
       "  </thead>\n",
       "  <tbody>\n",
       "    <tr>\n",
       "      <th>count</th>\n",
       "      <td>3.356000e+03</td>\n",
       "    </tr>\n",
       "    <tr>\n",
       "      <th>mean</th>\n",
       "      <td>8.412792e-24</td>\n",
       "    </tr>\n",
       "    <tr>\n",
       "      <th>std</th>\n",
       "      <td>4.636447e-08</td>\n",
       "    </tr>\n",
       "    <tr>\n",
       "      <th>min</th>\n",
       "      <td>-1.156126e-08</td>\n",
       "    </tr>\n",
       "    <tr>\n",
       "      <th>25%</th>\n",
       "      <td>-9.581360e-09</td>\n",
       "    </tr>\n",
       "    <tr>\n",
       "      <th>50%</th>\n",
       "      <td>-7.701663e-09</td>\n",
       "    </tr>\n",
       "    <tr>\n",
       "      <th>75%</th>\n",
       "      <td>-2.515748e-09</td>\n",
       "    </tr>\n",
       "    <tr>\n",
       "      <th>max</th>\n",
       "      <td>1.867052e-06</td>\n",
       "    </tr>\n",
       "  </tbody>\n",
       "</table>\n",
       "</div>"
      ],
      "text/plain": [
       "       SiteEnergyUse(kBtu)\n",
       "count         3.356000e+03\n",
       "mean          8.412792e-24\n",
       "std           4.636447e-08\n",
       "min          -1.156126e-08\n",
       "25%          -9.581360e-09\n",
       "50%          -7.701663e-09\n",
       "75%          -2.515748e-09\n",
       "max           1.867052e-06"
      ]
     },
     "execution_count": 20,
     "metadata": {},
     "output_type": "execute_result"
    }
   ],
   "source": [
    "Z1=df[['SiteEnergyUse(kBtu)']]\n",
    "Z1=(Z1-Z1.mean())/((Z1.std())**2)\n",
    "Z1.describe()"
   ]
  },
  {
   "cell_type": "code",
   "execution_count": 21,
   "id": "bf42aac1",
   "metadata": {},
   "outputs": [
    {
     "data": {
      "text/plain": [
       "<AxesSubplot:xlabel='SiteEnergyUse(kBtu)', ylabel='Count'>"
      ]
     },
     "execution_count": 21,
     "metadata": {},
     "output_type": "execute_result"
    },
    {
     "data": {
      "image/png": "[encoded data removed]",
      "text/plain": [
       "<Figure size 432x288 with 1 Axes>"
      ]
     },
     "metadata": {
      "needs_background": "light"
     },
     "output_type": "display_data"
    }
   ],
   "source": [
    "Z1=Z1[(Z1['SiteEnergyUse(kBtu)']<-2.579015e-09)&(Z1['SiteEnergyUse(kBtu)']>-9.616264e-09)]['SiteEnergyUse(kBtu)']\n",
    "sns.histplot(Z1)\n"
   ]
  },
  {
   "cell_type": "code",
   "execution_count": 22,
   "id": "5295baa3",
   "metadata": {},
   "outputs": [
    {
     "data": {
      "text/plain": [
       "<AxesSubplot:xlabel='SiteEnergyUse(kBtu)', ylabel='Count'>"
      ]
     },
     "execution_count": 22,
     "metadata": {},
     "output_type": "execute_result"
    },
    {
     "data": {
      "image/png": "[encoded data removed]",
      "text/plain": [
       "<Figure size 432x288 with 1 Axes>"
      ]
     },
     "metadata": {
      "needs_background": "light"
     },
     "output_type": "display_data"
    }
   ],
   "source": [
    "Z=np.log(df['SiteEnergyUse(kBtu)'])\n",
    "Z=(Z-Z.mean())/((Z.std())**2)\n",
    "sns.histplot(Z)"
   ]
  },
  {
   "cell_type": "code",
   "execution_count": 23,
   "id": "e8b80d12",
   "metadata": {},
   "outputs": [
    {
     "data": {
      "text/html": [
       "<div>\n",
       "<style scoped>\n",
       "    .dataframe tbody tr th:only-of-type {\n",
       "        vertical-align: middle;\n",
       "    }\n",
       "\n",
       "    .dataframe tbody tr th {\n",
       "        vertical-align: top;\n",
       "    }\n",
       "\n",
       "    .dataframe thead th {\n",
       "        text-align: right;\n",
       "    }\n",
       "</style>\n",
       "<table border=\"1\" class=\"dataframe\">\n",
       "  <thead>\n",
       "    <tr style=\"text-align: right;\">\n",
       "      <th></th>\n",
       "      <th>TotalGHGEmissions</th>\n",
       "    </tr>\n",
       "  </thead>\n",
       "  <tbody>\n",
       "    <tr>\n",
       "      <th>count</th>\n",
       "      <td>3.356000e+03</td>\n",
       "    </tr>\n",
       "    <tr>\n",
       "      <th>mean</th>\n",
       "      <td>4.024568e-19</td>\n",
       "    </tr>\n",
       "    <tr>\n",
       "      <th>std</th>\n",
       "      <td>1.852980e-03</td>\n",
       "    </tr>\n",
       "    <tr>\n",
       "      <th>min</th>\n",
       "      <td>-4.121111e-04</td>\n",
       "    </tr>\n",
       "    <tr>\n",
       "      <th>25%</th>\n",
       "      <td>-3.793037e-04</td>\n",
       "    </tr>\n",
       "    <tr>\n",
       "      <th>50%</th>\n",
       "      <td>-2.954740e-04</td>\n",
       "    </tr>\n",
       "    <tr>\n",
       "      <th>75%</th>\n",
       "      <td>-8.890407e-05</td>\n",
       "    </tr>\n",
       "    <tr>\n",
       "      <th>max</th>\n",
       "      <td>5.751465e-02</td>\n",
       "    </tr>\n",
       "  </tbody>\n",
       "</table>\n",
       "</div>"
      ],
      "text/plain": [
       "       TotalGHGEmissions\n",
       "count       3.356000e+03\n",
       "mean        4.024568e-19\n",
       "std         1.852980e-03\n",
       "min        -4.121111e-04\n",
       "25%        -3.793037e-04\n",
       "50%        -2.954740e-04\n",
       "75%        -8.890407e-05\n",
       "max         5.751465e-02"
      ]
     },
     "execution_count": 23,
     "metadata": {},
     "output_type": "execute_result"
    }
   ],
   "source": [
    "T1=df[['TotalGHGEmissions']]\n",
    "T1=(T1-T1.mean())/((T1.std())**2)\n",
    "T1.describe()"
   ]
  },
  {
   "cell_type": "code",
   "execution_count": 24,
   "id": "b50d3bd9",
   "metadata": {},
   "outputs": [
    {
     "data": {
      "text/plain": [
       "<AxesSubplot:xlabel='TotalGHGEmissions', ylabel='Count'>"
      ]
     },
     "execution_count": 24,
     "metadata": {},
     "output_type": "execute_result"
    },
    {
     "data": {
      "image/png": "[encoded data removed]",
      "text/plain": [
       "<Figure size 432x288 with 1 Axes>"
      ]
     },
     "metadata": {
      "needs_background": "light"
     },
     "output_type": "display_data"
    }
   ],
   "source": [
    "T1=T1[(T1['TotalGHGEmissions']<-8.881411e-05)&(T1['TotalGHGEmissions']>-3.793389e-04)]['TotalGHGEmissions']\n",
    "sns.histplot(T1)"
   ]
  },
  {
   "cell_type": "code",
   "execution_count": 90,
   "id": "187ce413",
   "metadata": {},
   "outputs": [
    {
     "data": {
      "text/plain": [
       "<AxesSubplot:xlabel='TotalGHGEmissions', ylabel='Count'>"
      ]
     },
     "execution_count": 90,
     "metadata": {},
     "output_type": "execute_result"
    },
    {
     "data": {
      "image/png": "[encoded data removed]",
      "text/plain": [
       "<Figure size 432x288 with 1 Axes>"
      ]
     },
     "metadata": {
      "needs_background": "light"
     },
     "output_type": "display_data"
    }
   ],
   "source": [
    "T=np.log(df['TotalGHGEmissions'])\n",
    "T=(T-T.mean())/((T.std())**2)\n",
    "sns.histplot(T)"
   ]
  },
  {
   "cell_type": "code",
   "execution_count": 26,
   "id": "6d33fc20",
   "metadata": {},
   "outputs": [
    {
     "data": {
      "text/plain": [
       "PropertyGFATotal                                                 0.000000\n",
       "PropertyGFAParking                                               0.000000\n",
       "PropertyGFABuilding(s)                                           0.000000\n",
       "LargestPropertyUseTypeGFA                                        0.001788\n",
       "SecondLargestPropertyUseTypeGFA                                  0.499106\n",
       "ThirdLargestPropertyUseTypeGFA                                   0.821216\n",
       "ENERGYSTARScore                                                  0.224374\n",
       "SiteEUI(kBtu/sf)                                                 0.000000\n",
       "SiteEUIWN(kBtu/sf)                                               0.000000\n",
       "SourceEUI(kBtu/sf)                                               0.000000\n",
       "SourceEUIWN(kBtu/sf)                                             0.000000\n",
       "SiteEnergyUse(kBtu)                                              0.000000\n",
       "SiteEnergyUseWN(kBtu)                                            0.000000\n",
       "SteamUse(kBtu)                                                   0.000000\n",
       "Electricity(kWh)                                                 0.000000\n",
       "Electricity(kBtu)                                                0.000000\n",
       "NaturalGas(therms)                                               0.000000\n",
       "NaturalGas(kBtu)                                                 0.000000\n",
       "OtherFuelUse(kBtu)                                               0.028903\n",
       "GHGEmissionsIntensity(kgCO2e/ft2)                                0.028903\n",
       "TotalGHGEmissions                                                0.000000\n",
       "GHGEmissionsIntensity                                            0.000000\n",
       "BuildingType                                                     0.000000\n",
       "PrimaryPropertyType                                              0.000000\n",
       "PropertyName                                                     0.000000\n",
       "TaxParcelIdentificationNumber                                    0.000000\n",
       "CouncilDistrictCode                                              0.000000\n",
       "Neighborhood                                                     0.000000\n",
       "YearBuilt                                                        0.000000\n",
       "NumberofBuildings                                                0.000000\n",
       "NumberofFloors                                                   0.000000\n",
       "ListOfAllPropertyUseTypes                                        0.000000\n",
       "LargestPropertyUseType                                           0.001788\n",
       "SecondLargestPropertyUseType                                     0.499106\n",
       "ThirdLargestPropertyUseType                                      0.821216\n",
       "YearsENERGYSTARCertified                                         0.963647\n",
       "DefaultData                                                      0.000000\n",
       "Comment                                                          0.997020\n",
       "ComplianceStatus                                                 0.000000\n",
       "Outlier                                                          0.972884\n",
       "2010 Census Tracts                                               0.935936\n",
       "Seattle Police Department Micro Community Policing Plan Areas    0.027414\n",
       "City Council Districts                                           0.939213\n",
       "SPD Beats                                                        0.027414\n",
       "Zip Codes                                                        0.026818\n",
       "Latitude                                                         0.000000\n",
       "Longitude                                                        0.000000\n",
       "Street_name                                                      0.026818\n",
       "City                                                             0.000000\n",
       "State                                                            0.000000\n",
       "ZipCode                                                          0.004768\n",
       "Comments                                                         1.000000\n",
       "Distance_From_Center                                             0.000000\n",
       "Age                                                              0.000000\n",
       "dtype: float64"
      ]
     },
     "execution_count": 26,
     "metadata": {},
     "output_type": "execute_result"
    }
   ],
   "source": [
    "df.isna().mean()"
   ]
  },
  {
   "cell_type": "code",
   "execution_count": 27,
   "id": "8c6d3703",
   "metadata": {},
   "outputs": [],
   "source": [
    "DF=df[['PropertyGFATotal', 'PropertyGFAParking', 'PropertyGFABuilding(s)',\n",
    "       'LargestPropertyUseTypeGFA','BuildingType','ENERGYSTARScore',\n",
    "       'PrimaryPropertyType','CouncilDistrictCode', 'Neighborhood', 'Age', 'NumberofBuildings',\n",
    "       'NumberofFloors','LargestPropertyUseType','Distance_From_Center','TotalGHGEmissions','SiteEnergyUse(kBtu)']]"
   ]
  },
  {
   "cell_type": "code",
   "execution_count": 28,
   "id": "289a2a22",
   "metadata": {},
   "outputs": [
    {
     "data": {
      "text/plain": [
       "PropertyGFATotal             0.000000\n",
       "PropertyGFAParking           0.000000\n",
       "PropertyGFABuilding(s)       0.000000\n",
       "LargestPropertyUseTypeGFA    0.001788\n",
       "BuildingType                 0.000000\n",
       "ENERGYSTARScore              0.224374\n",
       "PrimaryPropertyType          0.000000\n",
       "CouncilDistrictCode          0.000000\n",
       "Neighborhood                 0.000000\n",
       "Age                          0.000000\n",
       "NumberofBuildings            0.000000\n",
       "NumberofFloors               0.000000\n",
       "LargestPropertyUseType       0.001788\n",
       "Distance_From_Center         0.000000\n",
       "TotalGHGEmissions            0.000000\n",
       "SiteEnergyUse(kBtu)          0.000000\n",
       "dtype: float64"
      ]
     },
     "execution_count": 28,
     "metadata": {},
     "output_type": "execute_result"
    }
   ],
   "source": [
    "DF.isna().mean()"
   ]
  },
  {
   "cell_type": "code",
   "execution_count": 29,
   "id": "15794aea",
   "metadata": {},
   "outputs": [],
   "source": [
    "DF=DF.dropna(axis=0,subset=['PropertyGFATotal', 'PropertyGFAParking', 'PropertyGFABuilding(s)',\n",
    "       'LargestPropertyUseTypeGFA','BuildingType','PrimaryPropertyType','CouncilDistrictCode', \n",
    "        'Neighborhood', 'Age', 'NumberofBuildings','NumberofFloors','LargestPropertyUseType',\n",
    "        'Distance_From_Center','TotalGHGEmissions','SiteEnergyUse(kBtu)'])"
   ]
  },
  {
   "cell_type": "markdown",
   "id": "25ffa44f",
   "metadata": {},
   "source": [
    "# Nettoyage des colonnes"
   ]
  },
  {
   "cell_type": "code",
   "execution_count": 30,
   "id": "e150df5f",
   "metadata": {},
   "outputs": [
    {
     "data": {
      "text/plain": [
       "NonResidential          1450\n",
       "Multifamily LR (1-4)    1007\n",
       "Multifamily MR (5-9)     580\n",
       "Multifamily HR (10+)     109\n",
       "SPS-District K-12         94\n",
       "Nonresidential COS        85\n",
       "Campus                    24\n",
       "Nonresidential WA          1\n",
       "Name: BuildingType, dtype: int64"
      ]
     },
     "execution_count": 30,
     "metadata": {},
     "output_type": "execute_result"
    }
   ],
   "source": [
    "DF['BuildingType'].value_counts()"
   ]
  },
  {
   "cell_type": "markdown",
   "id": "4b45d967",
   "metadata": {},
   "source": [
    "On enlève les types d'immeubles **Multifamily**."
   ]
  },
  {
   "cell_type": "code",
   "execution_count": 31,
   "id": "f5d8ee18",
   "metadata": {},
   "outputs": [],
   "source": [
    "DF=DF[~(DF['BuildingType'].str.contains('Multifamily'))]"
   ]
  },
  {
   "cell_type": "code",
   "execution_count": 32,
   "id": "403f2ede",
   "metadata": {},
   "outputs": [],
   "source": [
    "DF.loc[:,'BuildingType']=DF.loc[:,'BuildingType'].replace(to_replace='Nonresidential WA', value='Nonresidential')\n",
    "DF.loc[:,'BuildingType']=DF.loc[:,'BuildingType'].replace(to_replace='Nonresidential COS', value='Nonresidential')\n"
   ]
  },
  {
   "cell_type": "code",
   "execution_count": 33,
   "id": "05b4f522",
   "metadata": {},
   "outputs": [
    {
     "data": {
      "text/plain": [
       "Small- and Mid-Sized Office    289\n",
       "Other                          248\n",
       "Warehouse                      187\n",
       "Large Office                   173\n",
       "K-12 School                    135\n",
       "Mixed Use Property             113\n",
       "Retail Store                    91\n",
       "Hotel                           75\n",
       "Worship Facility                71\n",
       "Distribution Center             53\n",
       "Medical Office                  39\n",
       "Supermarket / Grocery Store     39\n",
       "Self-Storage Facility           27\n",
       "University                      24\n",
       "Residence Hall                  21\n",
       "Senior Care Community           20\n",
       "Refrigerated Warehouse          12\n",
       "Restaurant                      11\n",
       "Hospital                        10\n",
       "Laboratory                      10\n",
       "Low-Rise Multifamily             3\n",
       "Office                           3\n",
       "Name: PrimaryPropertyType, dtype: int64"
      ]
     },
     "execution_count": 33,
     "metadata": {},
     "output_type": "execute_result"
    }
   ],
   "source": [
    "DF['PrimaryPropertyType'].value_counts()\n"
   ]
  },
  {
   "cell_type": "code",
   "execution_count": 34,
   "id": "73cb37f5",
   "metadata": {},
   "outputs": [],
   "source": [
    "DF=DF[~(DF['PrimaryPropertyType'].str.contains('Multifamily'))]"
   ]
  },
  {
   "cell_type": "code",
   "execution_count": 35,
   "id": "1aaef870",
   "metadata": {},
   "outputs": [],
   "source": [
    "DF.loc[:,'PrimaryPropertyType']=DF.loc[:,'PrimaryPropertyType'].replace(to_replace='Small- and Mid-Sized Office', value='Office')\n",
    "DF.loc[:,'PrimaryPropertyType']=DF.loc[:,'PrimaryPropertyType'].replace(to_replace='Large Office', value='Office')\n",
    "DF.loc[:,'PrimaryPropertyType']=DF.loc[:,'PrimaryPropertyType'].replace(to_replace='Restaurant\\n', value='Restaurant')\n",
    "DF.loc[:,'PrimaryPropertyType']=DF.loc[:,'PrimaryPropertyType'].replace(to_replace='Refrigerated Warehouse', value='Warehouse')\n",
    "DF.loc[:,'PrimaryPropertyType']=DF.loc[:,'PrimaryPropertyType'].replace(to_replace='Non-Refrigerated Warehouse', value='Warehouse')"
   ]
  },
  {
   "cell_type": "code",
   "execution_count": 36,
   "id": "a4c3065a",
   "metadata": {},
   "outputs": [
    {
     "data": {
      "text/plain": [
       "DOWNTOWN                  356\n",
       "GREATER DUWAMISH          346\n",
       "MAGNOLIA / QUEEN ANNE     150\n",
       "LAKE UNION                146\n",
       "NORTHEAST                 127\n",
       "EAST                      120\n",
       "NORTHWEST                  80\n",
       "BALLARD                    63\n",
       "NORTH                      56\n",
       "CENTRAL                    50\n",
       "SOUTHEAST                  46\n",
       "DELRIDGE                   42\n",
       "SOUTHWEST                  40\n",
       "North                       9\n",
       "Ballard                     6\n",
       "Northwest                   5\n",
       "Delridge                    4\n",
       "Central                     4\n",
       "DELRIDGE NEIGHBORHOODS      1\n",
       "Name: Neighborhood, dtype: int64"
      ]
     },
     "execution_count": 36,
     "metadata": {},
     "output_type": "execute_result"
    }
   ],
   "source": [
    "DF['Neighborhood'].value_counts()"
   ]
  },
  {
   "cell_type": "code",
   "execution_count": 37,
   "id": "ab4279e1",
   "metadata": {},
   "outputs": [],
   "source": [
    "DF.loc[:,'Neighborhood']=DF.loc[:,'Neighborhood'].replace(to_replace='North', value='NORTH')\n",
    "DF.loc[:,'Neighborhood']=DF.loc[:,'Neighborhood'].replace(to_replace='Central', value='CENTRAL')\n",
    "DF.loc[:,'Neighborhood']=DF.loc[:,'Neighborhood'].replace(to_replace='Northwest', value='NORTHWEST')\n",
    "DF.loc[:,'Neighborhood']=DF.loc[:,'Neighborhood'].replace(to_replace='Ballard', value='BALLARD')\n",
    "DF.loc[:,'Neighborhood']=DF.loc[:,'Neighborhood'].replace(to_replace='Delridge', value='DELRIDGE')\n",
    "DF.loc[:,'Neighborhood']=DF.loc[:,'Neighborhood'].replace(to_replace='DELRIDGE NEIGHBORHOODS', value='DELRIDGE')"
   ]
  },
  {
   "cell_type": "code",
   "execution_count": 53,
   "id": "6fc5ff2a",
   "metadata": {},
   "outputs": [
    {
     "data": {
      "text/html": [
       "<div>\n",
       "<style scoped>\n",
       "    .dataframe tbody tr th:only-of-type {\n",
       "        vertical-align: middle;\n",
       "    }\n",
       "\n",
       "    .dataframe tbody tr th {\n",
       "        vertical-align: top;\n",
       "    }\n",
       "\n",
       "    .dataframe thead th {\n",
       "        text-align: right;\n",
       "    }\n",
       "</style>\n",
       "<table border=\"1\" class=\"dataframe\">\n",
       "  <thead>\n",
       "    <tr style=\"text-align: right;\">\n",
       "      <th></th>\n",
       "      <th>PropertyGFATotal</th>\n",
       "      <th>PropertyGFAParking</th>\n",
       "      <th>PropertyGFABuilding(s)</th>\n",
       "      <th>LargestPropertyUseTypeGFA</th>\n",
       "      <th>ENERGYSTARScore</th>\n",
       "      <th>CouncilDistrictCode</th>\n",
       "      <th>Age</th>\n",
       "      <th>NumberofBuildings</th>\n",
       "      <th>NumberofFloors</th>\n",
       "      <th>Distance_From_Center</th>\n",
       "      <th>TotalGHGEmissions</th>\n",
       "      <th>SiteEnergyUse(kBtu)</th>\n",
       "    </tr>\n",
       "  </thead>\n",
       "  <tbody>\n",
       "    <tr>\n",
       "      <th>count</th>\n",
       "      <td>1.651000e+03</td>\n",
       "      <td>1651.000000</td>\n",
       "      <td>1.651000e+03</td>\n",
       "      <td>1.651000e+03</td>\n",
       "      <td>1127.000000</td>\n",
       "      <td>1651.000000</td>\n",
       "      <td>1651.000000</td>\n",
       "      <td>1651.000000</td>\n",
       "      <td>1651.000000</td>\n",
       "      <td>1651.000000</td>\n",
       "      <td>1651.000000</td>\n",
       "      <td>1.651000e+03</td>\n",
       "    </tr>\n",
       "    <tr>\n",
       "      <th>mean</th>\n",
       "      <td>1.185390e+05</td>\n",
       "      <td>13308.354331</td>\n",
       "      <td>1.052306e+05</td>\n",
       "      <td>9.848969e+04</td>\n",
       "      <td>64.800355</td>\n",
       "      <td>4.353119</td>\n",
       "      <td>54.078740</td>\n",
       "      <td>1.169594</td>\n",
       "      <td>4.131435</td>\n",
       "      <td>4.887638</td>\n",
       "      <td>186.464518</td>\n",
       "      <td>8.457250e+06</td>\n",
       "    </tr>\n",
       "    <tr>\n",
       "      <th>std</th>\n",
       "      <td>2.968633e+05</td>\n",
       "      <td>42159.406256</td>\n",
       "      <td>2.825489e+05</td>\n",
       "      <td>2.768143e+05</td>\n",
       "      <td>28.122726</td>\n",
       "      <td>2.193811</td>\n",
       "      <td>32.699734</td>\n",
       "      <td>2.944591</td>\n",
       "      <td>6.593315</td>\n",
       "      <td>3.251350</td>\n",
       "      <td>755.212943</td>\n",
       "      <td>3.025025e+07</td>\n",
       "    </tr>\n",
       "    <tr>\n",
       "      <th>min</th>\n",
       "      <td>1.128500e+04</td>\n",
       "      <td>-1.000000</td>\n",
       "      <td>-8.451000e+03</td>\n",
       "      <td>6.455000e+03</td>\n",
       "      <td>1.000000</td>\n",
       "      <td>1.000000</td>\n",
       "      <td>1.000000</td>\n",
       "      <td>0.000000</td>\n",
       "      <td>0.000000</td>\n",
       "      <td>0.143932</td>\n",
       "      <td>0.120000</td>\n",
       "      <td>1.697945e+04</td>\n",
       "    </tr>\n",
       "    <tr>\n",
       "      <th>25%</th>\n",
       "      <td>2.940850e+04</td>\n",
       "      <td>0.000000</td>\n",
       "      <td>2.838250e+04</td>\n",
       "      <td>2.550000e+04</td>\n",
       "      <td>46.250000</td>\n",
       "      <td>2.000000</td>\n",
       "      <td>27.000000</td>\n",
       "      <td>1.000000</td>\n",
       "      <td>1.000000</td>\n",
       "      <td>2.219946</td>\n",
       "      <td>20.235000</td>\n",
       "      <td>1.235373e+06</td>\n",
       "    </tr>\n",
       "    <tr>\n",
       "      <th>50%</th>\n",
       "      <td>4.929900e+04</td>\n",
       "      <td>0.000000</td>\n",
       "      <td>4.741500e+04</td>\n",
       "      <td>4.349500e+04</td>\n",
       "      <td>72.500000</td>\n",
       "      <td>4.000000</td>\n",
       "      <td>51.000000</td>\n",
       "      <td>1.000000</td>\n",
       "      <td>2.000000</td>\n",
       "      <td>4.241089</td>\n",
       "      <td>49.980000</td>\n",
       "      <td>2.559644e+06</td>\n",
       "    </tr>\n",
       "    <tr>\n",
       "      <th>75%</th>\n",
       "      <td>1.074480e+05</td>\n",
       "      <td>0.000000</td>\n",
       "      <td>9.574800e+04</td>\n",
       "      <td>9.197050e+04</td>\n",
       "      <td>88.000000</td>\n",
       "      <td>7.000000</td>\n",
       "      <td>86.000000</td>\n",
       "      <td>1.000000</td>\n",
       "      <td>4.000000</td>\n",
       "      <td>7.063187</td>\n",
       "      <td>144.600000</td>\n",
       "      <td>7.040798e+06</td>\n",
       "    </tr>\n",
       "    <tr>\n",
       "      <th>max</th>\n",
       "      <td>9.320156e+06</td>\n",
       "      <td>512608.000000</td>\n",
       "      <td>9.320156e+06</td>\n",
       "      <td>9.320156e+06</td>\n",
       "      <td>100.000000</td>\n",
       "      <td>7.000000</td>\n",
       "      <td>116.000000</td>\n",
       "      <td>111.000000</td>\n",
       "      <td>99.000000</td>\n",
       "      <td>15.195295</td>\n",
       "      <td>16870.980000</td>\n",
       "      <td>8.739237e+08</td>\n",
       "    </tr>\n",
       "  </tbody>\n",
       "</table>\n",
       "</div>"
      ],
      "text/plain": [
       "       PropertyGFATotal  PropertyGFAParking  PropertyGFABuilding(s)  \\\n",
       "count      1.651000e+03         1651.000000            1.651000e+03   \n",
       "mean       1.185390e+05        13308.354331            1.052306e+05   \n",
       "std        2.968633e+05        42159.406256            2.825489e+05   \n",
       "min        1.128500e+04           -1.000000           -8.451000e+03   \n",
       "25%        2.940850e+04            0.000000            2.838250e+04   \n",
       "50%        4.929900e+04            0.000000            4.741500e+04   \n",
       "75%        1.074480e+05            0.000000            9.574800e+04   \n",
       "max        9.320156e+06       512608.000000            9.320156e+06   \n",
       "\n",
       "       LargestPropertyUseTypeGFA  ENERGYSTARScore  CouncilDistrictCode  \\\n",
       "count               1.651000e+03      1127.000000          1651.000000   \n",
       "mean                9.848969e+04        64.800355             4.353119   \n",
       "std                 2.768143e+05        28.122726             2.193811   \n",
       "min                 6.455000e+03         1.000000             1.000000   \n",
       "25%                 2.550000e+04        46.250000             2.000000   \n",
       "50%                 4.349500e+04        72.500000             4.000000   \n",
       "75%                 9.197050e+04        88.000000             7.000000   \n",
       "max                 9.320156e+06       100.000000             7.000000   \n",
       "\n",
       "               Age  NumberofBuildings  NumberofFloors  Distance_From_Center  \\\n",
       "count  1651.000000        1651.000000     1651.000000           1651.000000   \n",
       "mean     54.078740           1.169594        4.131435              4.887638   \n",
       "std      32.699734           2.944591        6.593315              3.251350   \n",
       "min       1.000000           0.000000        0.000000              0.143932   \n",
       "25%      27.000000           1.000000        1.000000              2.219946   \n",
       "50%      51.000000           1.000000        2.000000              4.241089   \n",
       "75%      86.000000           1.000000        4.000000              7.063187   \n",
       "max     116.000000         111.000000       99.000000             15.195295   \n",
       "\n",
       "       TotalGHGEmissions  SiteEnergyUse(kBtu)  \n",
       "count        1651.000000         1.651000e+03  \n",
       "mean          186.464518         8.457250e+06  \n",
       "std           755.212943         3.025025e+07  \n",
       "min             0.120000         1.697945e+04  \n",
       "25%            20.235000         1.235373e+06  \n",
       "50%            49.980000         2.559644e+06  \n",
       "75%           144.600000         7.040798e+06  \n",
       "max         16870.980000         8.739237e+08  "
      ]
     },
     "execution_count": 53,
     "metadata": {},
     "output_type": "execute_result"
    }
   ],
   "source": [
    "DF[['TotalGHGEmissions']].describe()"
   ]
  },
  {
   "cell_type": "code",
   "execution_count": 66,
   "id": "49465b53",
   "metadata": {},
   "outputs": [
    {
     "data": {
      "text/plain": [
       "<AxesSubplot:xlabel='TotalGHGEmissions', ylabel='Count'>"
      ]
     },
     "execution_count": 66,
     "metadata": {},
     "output_type": "execute_result"
    },
    {
     "data": {
      "image/png": "[encoded data removed]",
      "text/plain": [
       "<Figure size 432x288 with 1 Axes>"
      ]
     },
     "metadata": {
      "needs_background": "light"
     },
     "output_type": "display_data"
    }
   ],
   "source": [
    "sns.histplot(DF['TotalGHGEmissions'])"
   ]
  },
  {
   "cell_type": "code",
   "execution_count": 69,
   "id": "3b43ff29",
   "metadata": {},
   "outputs": [
    {
     "data": {
      "text/html": [
       "<div>\n",
       "<style scoped>\n",
       "    .dataframe tbody tr th:only-of-type {\n",
       "        vertical-align: middle;\n",
       "    }\n",
       "\n",
       "    .dataframe tbody tr th {\n",
       "        vertical-align: top;\n",
       "    }\n",
       "\n",
       "    .dataframe thead th {\n",
       "        text-align: right;\n",
       "    }\n",
       "</style>\n",
       "<table border=\"1\" class=\"dataframe\">\n",
       "  <thead>\n",
       "    <tr style=\"text-align: right;\">\n",
       "      <th></th>\n",
       "      <th>PropertyGFATotal</th>\n",
       "      <th>PropertyGFAParking</th>\n",
       "      <th>PropertyGFABuilding(s)</th>\n",
       "      <th>LargestPropertyUseTypeGFA</th>\n",
       "      <th>ENERGYSTARScore</th>\n",
       "      <th>CouncilDistrictCode</th>\n",
       "      <th>Age</th>\n",
       "      <th>NumberofBuildings</th>\n",
       "      <th>NumberofFloors</th>\n",
       "      <th>Distance_From_Center</th>\n",
       "      <th>TotalGHGEmissions</th>\n",
       "      <th>SiteEnergyUse(kBtu)</th>\n",
       "    </tr>\n",
       "  </thead>\n",
       "  <tbody>\n",
       "    <tr>\n",
       "      <th>count</th>\n",
       "      <td>1.610000e+03</td>\n",
       "      <td>1610.000000</td>\n",
       "      <td>1.610000e+03</td>\n",
       "      <td>1.610000e+03</td>\n",
       "      <td>1105.000000</td>\n",
       "      <td>1610.000000</td>\n",
       "      <td>1610.000000</td>\n",
       "      <td>1610.000000</td>\n",
       "      <td>1610.000000</td>\n",
       "      <td>1610.000000</td>\n",
       "      <td>1610.000000</td>\n",
       "      <td>1.610000e+03</td>\n",
       "    </tr>\n",
       "    <tr>\n",
       "      <th>mean</th>\n",
       "      <td>1.027073e+05</td>\n",
       "      <td>12960.751242</td>\n",
       "      <td>8.974652e+04</td>\n",
       "      <td>8.306195e+04</td>\n",
       "      <td>65.162896</td>\n",
       "      <td>4.342236</td>\n",
       "      <td>54.329193</td>\n",
       "      <td>1.078882</td>\n",
       "      <td>4.001863</td>\n",
       "      <td>4.935599</td>\n",
       "      <td>108.802168</td>\n",
       "      <td>5.832343e+06</td>\n",
       "    </tr>\n",
       "    <tr>\n",
       "      <th>std</th>\n",
       "      <td>1.692906e+05</td>\n",
       "      <td>41909.900526</td>\n",
       "      <td>1.421115e+05</td>\n",
       "      <td>1.322216e+05</td>\n",
       "      <td>28.042656</td>\n",
       "      <td>2.197296</td>\n",
       "      <td>32.671515</td>\n",
       "      <td>1.076035</td>\n",
       "      <td>6.459560</td>\n",
       "      <td>3.258583</td>\n",
       "      <td>150.176731</td>\n",
       "      <td>9.124512e+06</td>\n",
       "    </tr>\n",
       "    <tr>\n",
       "      <th>min</th>\n",
       "      <td>1.128500e+04</td>\n",
       "      <td>-1.000000</td>\n",
       "      <td>-8.451000e+03</td>\n",
       "      <td>6.455000e+03</td>\n",
       "      <td>1.000000</td>\n",
       "      <td>1.000000</td>\n",
       "      <td>1.000000</td>\n",
       "      <td>0.000000</td>\n",
       "      <td>0.000000</td>\n",
       "      <td>0.143932</td>\n",
       "      <td>0.120000</td>\n",
       "      <td>1.697945e+04</td>\n",
       "    </tr>\n",
       "    <tr>\n",
       "      <th>25%</th>\n",
       "      <td>2.901975e+04</td>\n",
       "      <td>0.000000</td>\n",
       "      <td>2.808725e+04</td>\n",
       "      <td>2.509700e+04</td>\n",
       "      <td>47.000000</td>\n",
       "      <td>2.000000</td>\n",
       "      <td>27.000000</td>\n",
       "      <td>1.000000</td>\n",
       "      <td>1.000000</td>\n",
       "      <td>2.300338</td>\n",
       "      <td>19.812500</td>\n",
       "      <td>1.207011e+06</td>\n",
       "    </tr>\n",
       "    <tr>\n",
       "      <th>50%</th>\n",
       "      <td>4.800350e+04</td>\n",
       "      <td>0.000000</td>\n",
       "      <td>4.606350e+04</td>\n",
       "      <td>4.221150e+04</td>\n",
       "      <td>73.500000</td>\n",
       "      <td>4.000000</td>\n",
       "      <td>51.000000</td>\n",
       "      <td>1.000000</td>\n",
       "      <td>2.000000</td>\n",
       "      <td>4.398792</td>\n",
       "      <td>48.705000</td>\n",
       "      <td>2.475102e+06</td>\n",
       "    </tr>\n",
       "    <tr>\n",
       "      <th>75%</th>\n",
       "      <td>9.943825e+04</td>\n",
       "      <td>0.000000</td>\n",
       "      <td>8.987500e+04</td>\n",
       "      <td>8.480600e+04</td>\n",
       "      <td>88.500000</td>\n",
       "      <td>7.000000</td>\n",
       "      <td>86.000000</td>\n",
       "      <td>1.000000</td>\n",
       "      <td>4.000000</td>\n",
       "      <td>7.102376</td>\n",
       "      <td>130.205000</td>\n",
       "      <td>6.518690e+06</td>\n",
       "    </tr>\n",
       "    <tr>\n",
       "      <th>max</th>\n",
       "      <td>1.952220e+06</td>\n",
       "      <td>512608.000000</td>\n",
       "      <td>1.632820e+06</td>\n",
       "      <td>1.680937e+06</td>\n",
       "      <td>100.000000</td>\n",
       "      <td>7.000000</td>\n",
       "      <td>116.000000</td>\n",
       "      <td>27.000000</td>\n",
       "      <td>99.000000</td>\n",
       "      <td>15.195295</td>\n",
       "      <td>940.470000</td>\n",
       "      <td>9.374886e+07</td>\n",
       "    </tr>\n",
       "  </tbody>\n",
       "</table>\n",
       "</div>"
      ],
      "text/plain": [
       "       PropertyGFATotal  PropertyGFAParking  PropertyGFABuilding(s)  \\\n",
       "count      1.610000e+03         1610.000000            1.610000e+03   \n",
       "mean       1.027073e+05        12960.751242            8.974652e+04   \n",
       "std        1.692906e+05        41909.900526            1.421115e+05   \n",
       "min        1.128500e+04           -1.000000           -8.451000e+03   \n",
       "25%        2.901975e+04            0.000000            2.808725e+04   \n",
       "50%        4.800350e+04            0.000000            4.606350e+04   \n",
       "75%        9.943825e+04            0.000000            8.987500e+04   \n",
       "max        1.952220e+06       512608.000000            1.632820e+06   \n",
       "\n",
       "       LargestPropertyUseTypeGFA  ENERGYSTARScore  CouncilDistrictCode  \\\n",
       "count               1.610000e+03      1105.000000          1610.000000   \n",
       "mean                8.306195e+04        65.162896             4.342236   \n",
       "std                 1.322216e+05        28.042656             2.197296   \n",
       "min                 6.455000e+03         1.000000             1.000000   \n",
       "25%                 2.509700e+04        47.000000             2.000000   \n",
       "50%                 4.221150e+04        73.500000             4.000000   \n",
       "75%                 8.480600e+04        88.500000             7.000000   \n",
       "max                 1.680937e+06       100.000000             7.000000   \n",
       "\n",
       "               Age  NumberofBuildings  NumberofFloors  Distance_From_Center  \\\n",
       "count  1610.000000        1610.000000     1610.000000           1610.000000   \n",
       "mean     54.329193           1.078882        4.001863              4.935599   \n",
       "std      32.671515           1.076035        6.459560              3.258583   \n",
       "min       1.000000           0.000000        0.000000              0.143932   \n",
       "25%      27.000000           1.000000        1.000000              2.300338   \n",
       "50%      51.000000           1.000000        2.000000              4.398792   \n",
       "75%      86.000000           1.000000        4.000000              7.102376   \n",
       "max     116.000000          27.000000       99.000000             15.195295   \n",
       "\n",
       "       TotalGHGEmissions  SiteEnergyUse(kBtu)  \n",
       "count        1610.000000         1.610000e+03  \n",
       "mean          108.802168         5.832343e+06  \n",
       "std           150.176731         9.124512e+06  \n",
       "min             0.120000         1.697945e+04  \n",
       "25%            19.812500         1.207011e+06  \n",
       "50%            48.705000         2.475102e+06  \n",
       "75%           130.205000         6.518690e+06  \n",
       "max           940.470000         9.374886e+07  "
      ]
     },
     "execution_count": 69,
     "metadata": {},
     "output_type": "execute_result"
    }
   ],
   "source": [
    "DF[DF['TotalGHGEmissions']<1000].describe()"
   ]
  },
  {
   "cell_type": "code",
   "execution_count": 70,
   "id": "a6e766c1",
   "metadata": {},
   "outputs": [],
   "source": [
    "DF=DF[DF['TotalGHGEmissions']<1000]"
   ]
  },
  {
   "cell_type": "markdown",
   "id": "3783a7ef",
   "metadata": {},
   "source": []
  },
  {
   "cell_type": "code",
   "execution_count": 71,
   "id": "7519036d",
   "metadata": {},
   "outputs": [],
   "source": [
    "X=DF.drop(columns=['TotalGHGEmissions','SiteEnergyUse(kBtu)'],axis=1)\n",
    "Y=DF[['TotalGHGEmissions','SiteEnergyUse(kBtu)']]"
   ]
  },
  {
   "cell_type": "code",
   "execution_count": 72,
   "id": "0bb6cce9",
   "metadata": {},
   "outputs": [
    {
     "data": {
      "text/plain": [
       "<AxesSubplot:>"
      ]
     },
     "execution_count": 72,
     "metadata": {},
     "output_type": "execute_result"
    },
    {
     "data": {
      "image/png": "[encoded data removed]",
      "text/plain": [
       "<Figure size 432x288 with 2 Axes>"
      ]
     },
     "metadata": {
      "needs_background": "light"
     },
     "output_type": "display_data"
    }
   ],
   "source": [
    "X_quant=DF[['PropertyGFATotal', 'PropertyGFAParking', 'PropertyGFABuilding(s)',\n",
    "       'LargestPropertyUseTypeGFA',\n",
    "       'NumberofBuildings',\n",
    "       'NumberofFloors','Distance_From_Center','Age','ENERGYSTARScore']]\n",
    "sns.heatmap(X_quant.astype('float').corr(),cmap=\"YlGnBu\",annot=True)"
   ]
  },
  {
   "cell_type": "code",
   "execution_count": 73,
   "id": "6c07ba8c",
   "metadata": {},
   "outputs": [],
   "source": [
    "X.loc[:,'RelPropertyGFAParking']=X['PropertyGFAParking']/X['PropertyGFATotal']\n",
    "X.loc[:,'RelPropertyGFABuilding(s)']=X['PropertyGFABuilding(s)']/X['PropertyGFATotal']\n",
    "X.loc[:,'PropertyGFATotalPerBuild']=X['PropertyGFATotal']/X['NumberofBuildings']\n",
    "X.loc[:,'PropertyGFATotalPerFloor']=X['PropertyGFATotal']/X['NumberofFloors']"
   ]
  },
  {
   "cell_type": "code",
   "execution_count": null,
   "id": "dcc23b4a",
   "metadata": {},
   "outputs": [],
   "source": []
  },
  {
   "cell_type": "code",
   "execution_count": 74,
   "id": "030879ad",
   "metadata": {},
   "outputs": [
    {
     "data": {
      "text/plain": [
       "<AxesSubplot:>"
      ]
     },
     "execution_count": 74,
     "metadata": {},
     "output_type": "execute_result"
    },
    {
     "data": {
      "image/png": "[encoded data removed]",
      "text/plain": [
       "<Figure size 432x288 with 2 Axes>"
      ]
     },
     "metadata": {
      "needs_background": "light"
     },
     "output_type": "display_data"
    }
   ],
   "source": [
    "X_quant=X[['PropertyGFATotal', 'RelPropertyGFAParking','RelPropertyGFABuilding(s)',\n",
    "        \n",
    "       'PropertyGFATotalPerBuild','ENERGYSTARScore',\n",
    "       'PropertyGFATotalPerFloor','Distance_From_Center','Age','NumberofBuildings','NumberofFloors']]\n",
    "sns.heatmap(X_quant.corr(),cmap=\"YlGnBu\",annot=True)"
   ]
  },
  {
   "cell_type": "code",
   "execution_count": 75,
   "id": "cf181cd5",
   "metadata": {},
   "outputs": [
    {
     "data": {
      "text/plain": [
       "Index(['PropertyGFATotal', 'PropertyGFAParking', 'PropertyGFABuilding(s)',\n",
       "       'LargestPropertyUseTypeGFA', 'BuildingType', 'ENERGYSTARScore',\n",
       "       'PrimaryPropertyType', 'CouncilDistrictCode', 'Neighborhood', 'Age',\n",
       "       'NumberofBuildings', 'NumberofFloors', 'LargestPropertyUseType',\n",
       "       'Distance_From_Center', 'RelPropertyGFAParking',\n",
       "       'RelPropertyGFABuilding(s)', 'PropertyGFATotalPerBuild',\n",
       "       'PropertyGFATotalPerFloor'],\n",
       "      dtype='object')"
      ]
     },
     "execution_count": 75,
     "metadata": {},
     "output_type": "execute_result"
    }
   ],
   "source": [
    "X.columns"
   ]
  },
  {
   "cell_type": "code",
   "execution_count": 76,
   "id": "791ecbec",
   "metadata": {},
   "outputs": [],
   "source": [
    "X_quali=X[['Neighborhood','CouncilDistrictCode','BuildingType','PrimaryPropertyType','LargestPropertyUseType']]"
   ]
  },
  {
   "cell_type": "code",
   "execution_count": 77,
   "id": "8df6c682",
   "metadata": {
    "scrolled": true
   },
   "outputs": [
    {
     "data": {
      "text/html": [
       "<div>\n",
       "<style scoped>\n",
       "    .dataframe tbody tr th:only-of-type {\n",
       "        vertical-align: middle;\n",
       "    }\n",
       "\n",
       "    .dataframe tbody tr th {\n",
       "        vertical-align: top;\n",
       "    }\n",
       "\n",
       "    .dataframe thead th {\n",
       "        text-align: right;\n",
       "    }\n",
       "</style>\n",
       "<table border=\"1\" class=\"dataframe\">\n",
       "  <thead>\n",
       "    <tr style=\"text-align: right;\">\n",
       "      <th></th>\n",
       "      <th>PropertyGFATotal</th>\n",
       "      <th>PropertyGFAParking</th>\n",
       "      <th>PropertyGFABuilding(s)</th>\n",
       "      <th>LargestPropertyUseTypeGFA</th>\n",
       "      <th>ENERGYSTARScore</th>\n",
       "      <th>CouncilDistrictCode</th>\n",
       "      <th>Age</th>\n",
       "      <th>NumberofBuildings</th>\n",
       "      <th>NumberofFloors</th>\n",
       "      <th>Distance_From_Center</th>\n",
       "      <th>RelPropertyGFAParking</th>\n",
       "      <th>RelPropertyGFABuilding(s)</th>\n",
       "      <th>PropertyGFATotalPerBuild</th>\n",
       "      <th>PropertyGFATotalPerFloor</th>\n",
       "    </tr>\n",
       "  </thead>\n",
       "  <tbody>\n",
       "    <tr>\n",
       "      <th>count</th>\n",
       "      <td>1.610000e+03</td>\n",
       "      <td>1610.000000</td>\n",
       "      <td>1.610000e+03</td>\n",
       "      <td>1.610000e+03</td>\n",
       "      <td>1105.000000</td>\n",
       "      <td>1610.000000</td>\n",
       "      <td>1610.000000</td>\n",
       "      <td>1610.000000</td>\n",
       "      <td>1610.000000</td>\n",
       "      <td>1610.000000</td>\n",
       "      <td>1610.000000</td>\n",
       "      <td>1610.000000</td>\n",
       "      <td>1610.0</td>\n",
       "      <td>1610.00000</td>\n",
       "    </tr>\n",
       "    <tr>\n",
       "      <th>mean</th>\n",
       "      <td>1.027073e+05</td>\n",
       "      <td>12960.751242</td>\n",
       "      <td>8.974652e+04</td>\n",
       "      <td>8.306195e+04</td>\n",
       "      <td>65.162896</td>\n",
       "      <td>4.342236</td>\n",
       "      <td>54.329193</td>\n",
       "      <td>1.078882</td>\n",
       "      <td>4.001863</td>\n",
       "      <td>4.935599</td>\n",
       "      <td>0.062293</td>\n",
       "      <td>0.937707</td>\n",
       "      <td>inf</td>\n",
       "      <td>inf</td>\n",
       "    </tr>\n",
       "    <tr>\n",
       "      <th>std</th>\n",
       "      <td>1.692906e+05</td>\n",
       "      <td>41909.900526</td>\n",
       "      <td>1.421115e+05</td>\n",
       "      <td>1.322216e+05</td>\n",
       "      <td>28.042656</td>\n",
       "      <td>2.197296</td>\n",
       "      <td>32.671515</td>\n",
       "      <td>1.076035</td>\n",
       "      <td>6.459560</td>\n",
       "      <td>3.258583</td>\n",
       "      <td>0.139101</td>\n",
       "      <td>0.139101</td>\n",
       "      <td>NaN</td>\n",
       "      <td>NaN</td>\n",
       "    </tr>\n",
       "    <tr>\n",
       "      <th>min</th>\n",
       "      <td>1.128500e+04</td>\n",
       "      <td>-1.000000</td>\n",
       "      <td>-8.451000e+03</td>\n",
       "      <td>6.455000e+03</td>\n",
       "      <td>1.000000</td>\n",
       "      <td>1.000000</td>\n",
       "      <td>1.000000</td>\n",
       "      <td>0.000000</td>\n",
       "      <td>0.000000</td>\n",
       "      <td>0.143932</td>\n",
       "      <td>-0.000015</td>\n",
       "      <td>-0.251159</td>\n",
       "      <td>4300.0</td>\n",
       "      <td>221.69697</td>\n",
       "    </tr>\n",
       "    <tr>\n",
       "      <th>25%</th>\n",
       "      <td>2.901975e+04</td>\n",
       "      <td>0.000000</td>\n",
       "      <td>2.808725e+04</td>\n",
       "      <td>2.509700e+04</td>\n",
       "      <td>47.000000</td>\n",
       "      <td>2.000000</td>\n",
       "      <td>27.000000</td>\n",
       "      <td>1.000000</td>\n",
       "      <td>1.000000</td>\n",
       "      <td>2.300338</td>\n",
       "      <td>0.000000</td>\n",
       "      <td>1.000000</td>\n",
       "      <td>28800.0</td>\n",
       "      <td>13200.00000</td>\n",
       "    </tr>\n",
       "    <tr>\n",
       "      <th>50%</th>\n",
       "      <td>4.800350e+04</td>\n",
       "      <td>0.000000</td>\n",
       "      <td>4.606350e+04</td>\n",
       "      <td>4.221150e+04</td>\n",
       "      <td>73.500000</td>\n",
       "      <td>4.000000</td>\n",
       "      <td>51.000000</td>\n",
       "      <td>1.000000</td>\n",
       "      <td>2.000000</td>\n",
       "      <td>4.398792</td>\n",
       "      <td>0.000000</td>\n",
       "      <td>1.000000</td>\n",
       "      <td>48003.5</td>\n",
       "      <td>22779.00000</td>\n",
       "    </tr>\n",
       "    <tr>\n",
       "      <th>75%</th>\n",
       "      <td>9.943825e+04</td>\n",
       "      <td>0.000000</td>\n",
       "      <td>8.987500e+04</td>\n",
       "      <td>8.480600e+04</td>\n",
       "      <td>88.500000</td>\n",
       "      <td>7.000000</td>\n",
       "      <td>86.000000</td>\n",
       "      <td>1.000000</td>\n",
       "      <td>4.000000</td>\n",
       "      <td>7.102376</td>\n",
       "      <td>0.000000</td>\n",
       "      <td>1.000000</td>\n",
       "      <td>103857.5</td>\n",
       "      <td>37492.56250</td>\n",
       "    </tr>\n",
       "    <tr>\n",
       "      <th>max</th>\n",
       "      <td>1.952220e+06</td>\n",
       "      <td>512608.000000</td>\n",
       "      <td>1.632820e+06</td>\n",
       "      <td>1.680937e+06</td>\n",
       "      <td>100.000000</td>\n",
       "      <td>7.000000</td>\n",
       "      <td>116.000000</td>\n",
       "      <td>27.000000</td>\n",
       "      <td>99.000000</td>\n",
       "      <td>15.195295</td>\n",
       "      <td>1.251159</td>\n",
       "      <td>1.000015</td>\n",
       "      <td>inf</td>\n",
       "      <td>inf</td>\n",
       "    </tr>\n",
       "  </tbody>\n",
       "</table>\n",
       "</div>"
      ],
      "text/plain": [
       "       PropertyGFATotal  PropertyGFAParking  PropertyGFABuilding(s)  \\\n",
       "count      1.610000e+03         1610.000000            1.610000e+03   \n",
       "mean       1.027073e+05        12960.751242            8.974652e+04   \n",
       "std        1.692906e+05        41909.900526            1.421115e+05   \n",
       "min        1.128500e+04           -1.000000           -8.451000e+03   \n",
       "25%        2.901975e+04            0.000000            2.808725e+04   \n",
       "50%        4.800350e+04            0.000000            4.606350e+04   \n",
       "75%        9.943825e+04            0.000000            8.987500e+04   \n",
       "max        1.952220e+06       512608.000000            1.632820e+06   \n",
       "\n",
       "       LargestPropertyUseTypeGFA  ENERGYSTARScore  CouncilDistrictCode  \\\n",
       "count               1.610000e+03      1105.000000          1610.000000   \n",
       "mean                8.306195e+04        65.162896             4.342236   \n",
       "std                 1.322216e+05        28.042656             2.197296   \n",
       "min                 6.455000e+03         1.000000             1.000000   \n",
       "25%                 2.509700e+04        47.000000             2.000000   \n",
       "50%                 4.221150e+04        73.500000             4.000000   \n",
       "75%                 8.480600e+04        88.500000             7.000000   \n",
       "max                 1.680937e+06       100.000000             7.000000   \n",
       "\n",
       "               Age  NumberofBuildings  NumberofFloors  Distance_From_Center  \\\n",
       "count  1610.000000        1610.000000     1610.000000           1610.000000   \n",
       "mean     54.329193           1.078882        4.001863              4.935599   \n",
       "std      32.671515           1.076035        6.459560              3.258583   \n",
       "min       1.000000           0.000000        0.000000              0.143932   \n",
       "25%      27.000000           1.000000        1.000000              2.300338   \n",
       "50%      51.000000           1.000000        2.000000              4.398792   \n",
       "75%      86.000000           1.000000        4.000000              7.102376   \n",
       "max     116.000000          27.000000       99.000000             15.195295   \n",
       "\n",
       "       RelPropertyGFAParking  RelPropertyGFABuilding(s)  \\\n",
       "count            1610.000000                1610.000000   \n",
       "mean                0.062293                   0.937707   \n",
       "std                 0.139101                   0.139101   \n",
       "min                -0.000015                  -0.251159   \n",
       "25%                 0.000000                   1.000000   \n",
       "50%                 0.000000                   1.000000   \n",
       "75%                 0.000000                   1.000000   \n",
       "max                 1.251159                   1.000015   \n",
       "\n",
       "       PropertyGFATotalPerBuild  PropertyGFATotalPerFloor  \n",
       "count                    1610.0                1610.00000  \n",
       "mean                        inf                       inf  \n",
       "std                         NaN                       NaN  \n",
       "min                      4300.0                 221.69697  \n",
       "25%                     28800.0               13200.00000  \n",
       "50%                     48003.5               22779.00000  \n",
       "75%                    103857.5               37492.56250  \n",
       "max                         inf                       inf  "
      ]
     },
     "execution_count": 77,
     "metadata": {},
     "output_type": "execute_result"
    }
   ],
   "source": [
    "X.describe()"
   ]
  },
  {
   "cell_type": "code",
   "execution_count": 78,
   "id": "c0b2d18c",
   "metadata": {},
   "outputs": [],
   "source": [
    "X.replace([np.inf, -np.inf], 0, inplace=True)"
   ]
  },
  {
   "cell_type": "code",
   "execution_count": 79,
   "id": "94d857cc",
   "metadata": {},
   "outputs": [
    {
     "data": {
      "text/html": [
       "<div>\n",
       "<style scoped>\n",
       "    .dataframe tbody tr th:only-of-type {\n",
       "        vertical-align: middle;\n",
       "    }\n",
       "\n",
       "    .dataframe tbody tr th {\n",
       "        vertical-align: top;\n",
       "    }\n",
       "\n",
       "    .dataframe thead th {\n",
       "        text-align: right;\n",
       "    }\n",
       "</style>\n",
       "<table border=\"1\" class=\"dataframe\">\n",
       "  <thead>\n",
       "    <tr style=\"text-align: right;\">\n",
       "      <th></th>\n",
       "      <th>TotalGHGEmissions</th>\n",
       "      <th>SiteEnergyUse(kBtu)</th>\n",
       "    </tr>\n",
       "  </thead>\n",
       "  <tbody>\n",
       "    <tr>\n",
       "      <th>count</th>\n",
       "      <td>1610.000000</td>\n",
       "      <td>1.610000e+03</td>\n",
       "    </tr>\n",
       "    <tr>\n",
       "      <th>mean</th>\n",
       "      <td>108.802168</td>\n",
       "      <td>5.832343e+06</td>\n",
       "    </tr>\n",
       "    <tr>\n",
       "      <th>std</th>\n",
       "      <td>150.176731</td>\n",
       "      <td>9.124512e+06</td>\n",
       "    </tr>\n",
       "    <tr>\n",
       "      <th>min</th>\n",
       "      <td>0.120000</td>\n",
       "      <td>1.697945e+04</td>\n",
       "    </tr>\n",
       "    <tr>\n",
       "      <th>25%</th>\n",
       "      <td>19.812500</td>\n",
       "      <td>1.207011e+06</td>\n",
       "    </tr>\n",
       "    <tr>\n",
       "      <th>50%</th>\n",
       "      <td>48.705000</td>\n",
       "      <td>2.475102e+06</td>\n",
       "    </tr>\n",
       "    <tr>\n",
       "      <th>75%</th>\n",
       "      <td>130.205000</td>\n",
       "      <td>6.518690e+06</td>\n",
       "    </tr>\n",
       "    <tr>\n",
       "      <th>max</th>\n",
       "      <td>940.470000</td>\n",
       "      <td>9.374886e+07</td>\n",
       "    </tr>\n",
       "  </tbody>\n",
       "</table>\n",
       "</div>"
      ],
      "text/plain": [
       "       TotalGHGEmissions  SiteEnergyUse(kBtu)\n",
       "count        1610.000000         1.610000e+03\n",
       "mean          108.802168         5.832343e+06\n",
       "std           150.176731         9.124512e+06\n",
       "min             0.120000         1.697945e+04\n",
       "25%            19.812500         1.207011e+06\n",
       "50%            48.705000         2.475102e+06\n",
       "75%           130.205000         6.518690e+06\n",
       "max           940.470000         9.374886e+07"
      ]
     },
     "execution_count": 79,
     "metadata": {},
     "output_type": "execute_result"
    }
   ],
   "source": [
    "Y.describe()"
   ]
  },
  {
   "cell_type": "code",
   "execution_count": null,
   "id": "1c644d76",
   "metadata": {},
   "outputs": [],
   "source": []
  },
  {
   "cell_type": "markdown",
   "id": "4386b75c",
   "metadata": {},
   "source": [
    "## EnergyStarScore NaN treatment"
   ]
  },
  {
   "cell_type": "code",
   "execution_count": 80,
   "id": "e55261a6",
   "metadata": {},
   "outputs": [],
   "source": [
    "DF_ENERGYSTARScore=pd.merge(X,Y,left_index=True,right_index=True).dropna(axis=0)"
   ]
  },
  {
   "cell_type": "code",
   "execution_count": 81,
   "id": "07b51185",
   "metadata": {},
   "outputs": [
    {
     "data": {
      "text/plain": [
       "(1105, 20)"
      ]
     },
     "execution_count": 81,
     "metadata": {},
     "output_type": "execute_result"
    }
   ],
   "source": [
    "DF_ENERGYSTARScore.shape"
   ]
  },
  {
   "cell_type": "code",
   "execution_count": 82,
   "id": "4d740a55",
   "metadata": {},
   "outputs": [],
   "source": [
    "X_ENERGYSTARScore=DF_ENERGYSTARScore.drop(columns=['TotalGHGEmissions','SiteEnergyUse(kBtu)'])\n",
    "Y_ENERGYSTARScore=DF_ENERGYSTARScore[['TotalGHGEmissions','SiteEnergyUse(kBtu)']]"
   ]
  },
  {
   "cell_type": "code",
   "execution_count": 83,
   "id": "9ec75923",
   "metadata": {},
   "outputs": [],
   "source": [
    "X_ENERGYSTARScore.to_csv(r'C:\\Users\\Kfoury\\Desktop\\Besoin electrique\\X_ENERGYSTARScore.csv')\n",
    "Y_ENERGYSTARScore.to_csv(r'C:\\Users\\Kfoury\\Desktop\\Besoin electrique\\Y_ENERGYSTARScore.csv')"
   ]
  },
  {
   "cell_type": "markdown",
   "id": "6642b56b",
   "metadata": {},
   "source": [
    "## Save as csv"
   ]
  },
  {
   "cell_type": "code",
   "execution_count": 84,
   "id": "cee0534b",
   "metadata": {},
   "outputs": [],
   "source": [
    "X.to_csv(r'C:\\Users\\Kfoury\\Desktop\\Besoin electrique\\X.csv',index=False)\n",
    "Y.to_csv(r'C:\\Users\\Kfoury\\Desktop\\Besoin electrique\\Y.csv',index=False)\n",
    "X_ENERGYSTARScore.to_csv(r'C:\\Users\\Kfoury\\Desktop\\Besoin electrique\\X_ENERGYSTARScore.csv',index=False)\n",
    "Y_ENERGYSTARScore.to_csv(r'C:\\Users\\Kfoury\\Desktop\\Besoin electrique\\Y_ENERGYSTARScore.csv',index=False)"
   ]
  },
  {
   "cell_type": "code",
   "execution_count": 87,
   "id": "f4433a4c",
   "metadata": {},
   "outputs": [
    {
     "data": {
      "text/html": [
       "<div>\n",
       "<style scoped>\n",
       "    .dataframe tbody tr th:only-of-type {\n",
       "        vertical-align: middle;\n",
       "    }\n",
       "\n",
       "    .dataframe tbody tr th {\n",
       "        vertical-align: top;\n",
       "    }\n",
       "\n",
       "    .dataframe thead th {\n",
       "        text-align: right;\n",
       "    }\n",
       "</style>\n",
       "<table border=\"1\" class=\"dataframe\">\n",
       "  <thead>\n",
       "    <tr style=\"text-align: right;\">\n",
       "      <th></th>\n",
       "      <th>PropertyGFATotal</th>\n",
       "      <th>PropertyGFAParking</th>\n",
       "      <th>PropertyGFABuilding(s)</th>\n",
       "      <th>LargestPropertyUseTypeGFA</th>\n",
       "      <th>BuildingType</th>\n",
       "      <th>ENERGYSTARScore</th>\n",
       "      <th>PrimaryPropertyType</th>\n",
       "      <th>CouncilDistrictCode</th>\n",
       "      <th>Neighborhood</th>\n",
       "      <th>Age</th>\n",
       "      <th>NumberofBuildings</th>\n",
       "      <th>NumberofFloors</th>\n",
       "      <th>LargestPropertyUseType</th>\n",
       "      <th>Distance_From_Center</th>\n",
       "      <th>RelPropertyGFAParking</th>\n",
       "      <th>RelPropertyGFABuilding(s)</th>\n",
       "      <th>PropertyGFATotalPerBuild</th>\n",
       "      <th>PropertyGFATotalPerFloor</th>\n",
       "    </tr>\n",
       "    <tr>\n",
       "      <th>OSEBuildingID</th>\n",
       "      <th></th>\n",
       "      <th></th>\n",
       "      <th></th>\n",
       "      <th></th>\n",
       "      <th></th>\n",
       "      <th></th>\n",
       "      <th></th>\n",
       "      <th></th>\n",
       "      <th></th>\n",
       "      <th></th>\n",
       "      <th></th>\n",
       "      <th></th>\n",
       "      <th></th>\n",
       "      <th></th>\n",
       "      <th></th>\n",
       "      <th></th>\n",
       "      <th></th>\n",
       "      <th></th>\n",
       "    </tr>\n",
       "  </thead>\n",
       "  <tbody>\n",
       "    <tr>\n",
       "      <th>1</th>\n",
       "      <td>88434.0</td>\n",
       "      <td>0.0</td>\n",
       "      <td>88434.0</td>\n",
       "      <td>88434.0</td>\n",
       "      <td>NonResidential</td>\n",
       "      <td>62.5</td>\n",
       "      <td>Hotel</td>\n",
       "      <td>7</td>\n",
       "      <td>DOWNTOWN</td>\n",
       "      <td>89</td>\n",
       "      <td>1.0</td>\n",
       "      <td>12.0</td>\n",
       "      <td>Hotel</td>\n",
       "      <td>1.496143</td>\n",
       "      <td>0.000000</td>\n",
       "      <td>1.000000</td>\n",
       "      <td>88434.0</td>\n",
       "      <td>7369.500000</td>\n",
       "    </tr>\n",
       "    <tr>\n",
       "      <th>2</th>\n",
       "      <td>103566.0</td>\n",
       "      <td>15064.0</td>\n",
       "      <td>88502.0</td>\n",
       "      <td>83880.0</td>\n",
       "      <td>NonResidential</td>\n",
       "      <td>56.0</td>\n",
       "      <td>Hotel</td>\n",
       "      <td>7</td>\n",
       "      <td>DOWNTOWN</td>\n",
       "      <td>20</td>\n",
       "      <td>1.0</td>\n",
       "      <td>11.0</td>\n",
       "      <td>Hotel</td>\n",
       "      <td>1.654076</td>\n",
       "      <td>0.145453</td>\n",
       "      <td>0.854547</td>\n",
       "      <td>103566.0</td>\n",
       "      <td>9415.090909</td>\n",
       "    </tr>\n",
       "    <tr>\n",
       "      <th>5</th>\n",
       "      <td>61320.0</td>\n",
       "      <td>0.0</td>\n",
       "      <td>61320.0</td>\n",
       "      <td>61320.0</td>\n",
       "      <td>NonResidential</td>\n",
       "      <td>28.5</td>\n",
       "      <td>Hotel</td>\n",
       "      <td>7</td>\n",
       "      <td>DOWNTOWN</td>\n",
       "      <td>90</td>\n",
       "      <td>1.0</td>\n",
       "      <td>10.0</td>\n",
       "      <td>Hotel</td>\n",
       "      <td>1.427800</td>\n",
       "      <td>0.000000</td>\n",
       "      <td>1.000000</td>\n",
       "      <td>61320.0</td>\n",
       "      <td>6132.000000</td>\n",
       "    </tr>\n",
       "    <tr>\n",
       "      <th>8</th>\n",
       "      <td>147735.0</td>\n",
       "      <td>37230.0</td>\n",
       "      <td>110505.0</td>\n",
       "      <td>123445.0</td>\n",
       "      <td>NonResidential</td>\n",
       "      <td>71.0</td>\n",
       "      <td>Hotel</td>\n",
       "      <td>7</td>\n",
       "      <td>DOWNTOWN</td>\n",
       "      <td>36</td>\n",
       "      <td>1.0</td>\n",
       "      <td>18.0</td>\n",
       "      <td>Hotel</td>\n",
       "      <td>1.242947</td>\n",
       "      <td>0.252005</td>\n",
       "      <td>0.747995</td>\n",
       "      <td>147735.0</td>\n",
       "      <td>8207.500000</td>\n",
       "    </tr>\n",
       "    <tr>\n",
       "      <th>9</th>\n",
       "      <td>97288.0</td>\n",
       "      <td>37198.0</td>\n",
       "      <td>60090.0</td>\n",
       "      <td>88830.0</td>\n",
       "      <td>Nonresidential</td>\n",
       "      <td>NaN</td>\n",
       "      <td>Other</td>\n",
       "      <td>7</td>\n",
       "      <td>DOWNTOWN</td>\n",
       "      <td>17</td>\n",
       "      <td>1.0</td>\n",
       "      <td>2.0</td>\n",
       "      <td>Police Station</td>\n",
       "      <td>1.302106</td>\n",
       "      <td>0.382349</td>\n",
       "      <td>0.617651</td>\n",
       "      <td>97288.0</td>\n",
       "      <td>48644.000000</td>\n",
       "    </tr>\n",
       "  </tbody>\n",
       "</table>\n",
       "</div>"
      ],
      "text/plain": [
       "               PropertyGFATotal  PropertyGFAParking  PropertyGFABuilding(s)  \\\n",
       "OSEBuildingID                                                                 \n",
       "1                       88434.0                 0.0                 88434.0   \n",
       "2                      103566.0             15064.0                 88502.0   \n",
       "5                       61320.0                 0.0                 61320.0   \n",
       "8                      147735.0             37230.0                110505.0   \n",
       "9                       97288.0             37198.0                 60090.0   \n",
       "\n",
       "               LargestPropertyUseTypeGFA    BuildingType  ENERGYSTARScore  \\\n",
       "OSEBuildingID                                                               \n",
       "1                                88434.0  NonResidential             62.5   \n",
       "2                                83880.0  NonResidential             56.0   \n",
       "5                                61320.0  NonResidential             28.5   \n",
       "8                               123445.0  NonResidential             71.0   \n",
       "9                                88830.0  Nonresidential              NaN   \n",
       "\n",
       "              PrimaryPropertyType  CouncilDistrictCode Neighborhood  Age  \\\n",
       "OSEBuildingID                                                              \n",
       "1                           Hotel                    7     DOWNTOWN   89   \n",
       "2                           Hotel                    7     DOWNTOWN   20   \n",
       "5                           Hotel                    7     DOWNTOWN   90   \n",
       "8                           Hotel                    7     DOWNTOWN   36   \n",
       "9                           Other                    7     DOWNTOWN   17   \n",
       "\n",
       "               NumberofBuildings  NumberofFloors LargestPropertyUseType  \\\n",
       "OSEBuildingID                                                             \n",
       "1                            1.0            12.0                  Hotel   \n",
       "2                            1.0            11.0                  Hotel   \n",
       "5                            1.0            10.0                  Hotel   \n",
       "8                            1.0            18.0                  Hotel   \n",
       "9                            1.0             2.0         Police Station   \n",
       "\n",
       "               Distance_From_Center  RelPropertyGFAParking  \\\n",
       "OSEBuildingID                                                \n",
       "1                          1.496143               0.000000   \n",
       "2                          1.654076               0.145453   \n",
       "5                          1.427800               0.000000   \n",
       "8                          1.242947               0.252005   \n",
       "9                          1.302106               0.382349   \n",
       "\n",
       "               RelPropertyGFABuilding(s)  PropertyGFATotalPerBuild  \\\n",
       "OSEBuildingID                                                        \n",
       "1                               1.000000                   88434.0   \n",
       "2                               0.854547                  103566.0   \n",
       "5                               1.000000                   61320.0   \n",
       "8                               0.747995                  147735.0   \n",
       "9                               0.617651                   97288.0   \n",
       "\n",
       "               PropertyGFATotalPerFloor  \n",
       "OSEBuildingID                            \n",
       "1                           7369.500000  \n",
       "2                           9415.090909  \n",
       "5                           6132.000000  \n",
       "8                           8207.500000  \n",
       "9                          48644.000000  "
      ]
     },
     "execution_count": 87,
     "metadata": {},
     "output_type": "execute_result"
    }
   ],
   "source": [
    "X.head()"
   ]
  },
  {
   "cell_type": "code",
   "execution_count": 88,
   "id": "344ab917",
   "metadata": {},
   "outputs": [
    {
     "data": {
      "text/plain": [
       "<AxesSubplot:>"
      ]
     },
     "execution_count": 88,
     "metadata": {},
     "output_type": "execute_result"
    },
    {
     "data": {
      "image/png": "[encoded data removed]",
      "text/plain": [
       "<Figure size 1800x720 with 3 Axes>"
      ]
     },
     "metadata": {
      "needs_background": "light"
     },
     "output_type": "display_data"
    }
   ],
   "source": [
    "missingno.bar(X)"
   ]
  },
  {
   "cell_type": "code",
   "execution_count": null,
   "id": "1ec8c852",
   "metadata": {},
   "outputs": [],
   "source": []
  }
 ],
 "metadata": {
  "kernelspec": {
   "display_name": "Python 3 (ipykernel)",
   "language": "python",
   "name": "python3"
  },
  "language_info": {
   "codemirror_mode": {
    "name": "ipython",
    "version": 3
   },
   "file_extension": ".py",
   "mimetype": "text/x-python",
   "name": "python",
   "nbconvert_exporter": "python",
   "pygments_lexer": "ipython3",
   "version": "3.9.7"
  }
 },
 "nbformat": 4,
 "nbformat_minor": 5
}
