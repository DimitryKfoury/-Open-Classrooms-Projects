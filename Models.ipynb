{
 "cells": [
  {
   "cell_type": "code",
   "execution_count": 75,
   "id": "21eb4d6a",
   "metadata": {},
   "outputs": [],
   "source": [
    "import pandas as pd\n",
    "import numpy as np\n",
    "import matplotlib.pyplot as plt\n",
    "import seaborn as sns\n",
    "import sklearn\n",
    "from sklearn import decomposition\n",
    "from sklearn import preprocessing\n",
    "from sklearn.svm import SVC\n",
    "from sklearn.impute import SimpleImputer\n",
    "from sklearn.preprocessing import StandardScaler\n",
    "from sklearn.preprocessing import RobustScaler\n",
    "from sklearn.linear_model import LinearRegression\n",
    "from sklearn.dummy import DummyRegressor\n",
    "from sklearn.linear_model import ElasticNet\n",
    "from sklearn.ensemble import RandomForestRegressor\n",
    "from sklearn import model_selection\n",
    "from sklearn.model_selection import train_test_split, GridSearchCV\n",
    "from sklearn.metrics import r2_score\n",
    "from sklearn.metrics import mean_squared_error\n",
    "#from sklearn.metrics import root_mean_squared_error\n",
    "from sklearn.pipeline import Pipeline\n",
    "from sklearn.compose import ColumnTransformer\n",
    "from sklearn.compose import TransformedTargetRegressor\n",
    "from category_encoders import TargetEncoder\n",
    "import warnings"
   ]
  },
  {
   "cell_type": "code",
   "execution_count": 40,
   "id": "384fa948",
   "metadata": {},
   "outputs": [],
   "source": [
    "X=pd.read_csv(r'C:\\Users\\Kfoury\\Desktop\\Besoin electrique\\X.csv')\n",
    "Y=pd.read_csv(r'C:\\Users\\Kfoury\\Desktop\\Besoin electrique\\Y.csv')\n",
    "X_ENERGYSTARScore=pd.read_csv(r'C:\\Users\\Kfoury\\Desktop\\Besoin electrique\\X_ENERGYSTARScore.csv')\n",
    "Y_ENERGYSTARScore=pd.read_csv(r'C:\\Users\\Kfoury\\Desktop\\Besoin electrique\\Y_ENERGYSTARScore.csv')"
   ]
  },
  {
   "cell_type": "markdown",
   "id": "c58d1306",
   "metadata": {},
   "source": [
    "## Feature Names function"
   ]
  },
  {
   "cell_type": "markdown",
   "id": "2af68683",
   "metadata": {},
   "source": [
    "https://johaupt.github.io/blog/columnTransformer_feature_names.html"
   ]
  },
  {
   "cell_type": "code",
   "execution_count": 41,
   "id": "27438f9c",
   "metadata": {},
   "outputs": [],
   "source": [
    "def get_feature_names(column_transformer):\n",
    "    \"\"\"Get feature names from all transformers.\n",
    "    Returns\n",
    "    -------\n",
    "    feature_names : list of strings\n",
    "        Names of the features produced by transform.\n",
    "    \"\"\"\n",
    "    # Remove the internal helper function\n",
    "    #check_is_fitted(column_transformer)\n",
    "    \n",
    "    # Turn loopkup into function for better handling with pipeline later\n",
    "    def get_names(trans):\n",
    "        # >> Original get_feature_names() method\n",
    "        if trans == 'drop' or (\n",
    "                hasattr(column, '__len__') and not len(column)):\n",
    "            return []\n",
    "        if trans == 'passthrough':\n",
    "            if hasattr(column_transformer, '_df_columns'):\n",
    "                if ((not isinstance(column, slice))\n",
    "                        and all(isinstance(col, str) for col in column)):\n",
    "                    return column\n",
    "                else:\n",
    "                    return column_transformer._df_columns[column]\n",
    "            else:\n",
    "                indices = np.arange(column_transformer._n_features)\n",
    "                return ['x%d' % i for i in indices[column]]\n",
    "        if not hasattr(trans, 'get_feature_names'):\n",
    "        # >>> Change: Return input column names if no method avaiable\n",
    "            # Turn error into a warning\n",
    "            warnings.warn(\"Transformer %s (type %s) does not \"\n",
    "                                 \"provide get_feature_names. \"\n",
    "                                 \"Will return input column names if available\"\n",
    "                                 % (str(name), type(trans).__name__))\n",
    "            # For transformers without a get_features_names method, use the input\n",
    "            # names to the column transformer\n",
    "            if column is None:\n",
    "                return []\n",
    "            else:\n",
    "                return [name + \"__\" + f for f in column]\n",
    "\n",
    "        return [name + \"__\" + f for f in trans.get_feature_names()]\n",
    "    \n",
    "    ### Start of processing\n",
    "    feature_names = []\n",
    "    \n",
    "    # Allow transformers to be pipelines. Pipeline steps are named differently, so preprocessing is needed\n",
    "    if type(column_transformer) == sklearn.pipeline.Pipeline:\n",
    "        l_transformers = [(name, trans, None, None) for step, name, trans in column_transformer._iter()]\n",
    "    else:\n",
    "        # For column transformers, follow the original method\n",
    "        l_transformers = list(column_transformer._iter(fitted=True))\n",
    "    \n",
    "    \n",
    "    for name, trans, column, _ in l_transformers: \n",
    "        if type(trans) == sklearn.pipeline.Pipeline:\n",
    "            # Recursive call on pipeline\n",
    "            _names = get_feature_names(trans)\n",
    "            # if pipeline has no transformer that returns names\n",
    "            if len(_names)==0:\n",
    "                _names = [name + \"__\" + f for f in column]\n",
    "            feature_names.extend(_names)\n",
    "        else:\n",
    "            feature_names.extend(get_names(trans))\n",
    "    \n",
    "    return feature_names"
   ]
  },
  {
   "cell_type": "markdown",
   "id": "3f23521f",
   "metadata": {},
   "source": [
    "# Without EnergyStarScore"
   ]
  },
  {
   "cell_type": "markdown",
   "id": "790205e8",
   "metadata": {},
   "source": [
    "## Train test split"
   ]
  },
  {
   "cell_type": "code",
   "execution_count": 114,
   "id": "234f0a4e",
   "metadata": {},
   "outputs": [],
   "source": [
    "# Numerical features\n",
    "numeric_features = ['PropertyGFATotal', 'RelPropertyGFAParking','RelPropertyGFABuilding(s)',\n",
    "                    'PropertyGFATotalPerBuild','PropertyGFATotalPerFloor',\n",
    "                    'Distance_From_Center','Age','NumberofFloors','NumberofBuildings']\n",
    "numeric_transformer = Pipeline(\n",
    "                      steps=[(\"scaler\", RobustScaler())]\n",
    "                              )\n",
    "\n",
    "# Categorical features\n",
    "categorical_features = ['Neighborhood','CouncilDistrictCode','BuildingType','PrimaryPropertyType']\n",
    "categorical_transformer =TargetEncoder()\n",
    "preprocessor = ColumnTransformer(\n",
    "                                 transformers=[\n",
    "                                               (\"num\", numeric_transformer, numeric_features),\n",
    "                                               (\"cat\", categorical_transformer, categorical_features),\n",
    "                                              ]\n",
    "                                )\n",
    "\n",
    "X_train, X_test, y_train, y_test = train_test_split(X, Y, test_size=0.2, random_state=0)"
   ]
  },
  {
   "cell_type": "markdown",
   "id": "ce5c62ce",
   "metadata": {},
   "source": [
    "## Dummy Regression"
   ]
  },
  {
   "cell_type": "code",
   "execution_count": 43,
   "id": "7a540ab1",
   "metadata": {},
   "outputs": [],
   "source": [
    "Transformed_DR=TransformedTargetRegressor(\n",
    "                               regressor=DummyRegressor(), \n",
    "                                func=np.log, \n",
    "                               inverse_func=np.exp)\n",
    "pipeline_DR = Pipeline(\n",
    "    steps=[(\"preprocessor\", preprocessor), (\"model\", Transformed_DR)]   \n",
    "                      )\n",
    "\n",
    "parameters_DR ={}\n",
    "parameters_DR['model__regressor__strategy']=('mean','median')\n",
    "\n",
    "\n",
    "search_DR=GridSearchCV(pipeline_DR,parameters_DR, scoring=('r2','neg_mean_squared_error'), cv=5,refit='neg_mean_squared_error')"
   ]
  },
  {
   "cell_type": "markdown",
   "id": "ac3c027c",
   "metadata": {},
   "source": [
    "### SiteEnergyUse(kBtu)"
   ]
  },
  {
   "cell_type": "code",
   "execution_count": 318,
   "id": "61d6080a",
   "metadata": {
    "scrolled": false
   },
   "outputs": [
    {
     "name": "stdout",
     "output_type": "stream",
     "text": [
      "neg_mean_squared_error: -91040675282100.328\n",
      "r2_score: 0   -0.115669\n",
      "Name: mean_test_r2, dtype: float64\n"
     ]
    }
   ],
   "source": [
    "Dummy_SEU=search_DR.fit(X_train, y_train['SiteEnergyUse(kBtu)'])\n",
    "\n",
    "print('neg_mean_squared_error: %.3f' % Dummy_SEU.best_score_)\n",
    "print('r2_score:',pd.DataFrame(Dummy_SEU.cv_results_)[pd.DataFrame(Dummy_SEU.cv_results_)['rank_test_neg_mean_squared_error']==1][:1]['mean_test_r2'])"
   ]
  },
  {
   "cell_type": "code",
   "execution_count": 320,
   "id": "f7eff92b",
   "metadata": {},
   "outputs": [
    {
     "data": {
      "text/plain": [
       "{'model__regressor__strategy': 'mean'}"
      ]
     },
     "execution_count": 320,
     "metadata": {},
     "output_type": "execute_result"
    }
   ],
   "source": [
    " Dummy_SEU.best_params_"
   ]
  },
  {
   "cell_type": "markdown",
   "id": "6815578a",
   "metadata": {},
   "source": [
    "###  TotalGHGEmissions"
   ]
  },
  {
   "cell_type": "code",
   "execution_count": 321,
   "id": "6504d001",
   "metadata": {},
   "outputs": [
    {
     "name": "stdout",
     "output_type": "stream",
     "text": [
      "neg_mean_squared_error: -25349.654\n",
      "r2_score: 1   -0.160079\n",
      "Name: mean_test_r2, dtype: float64\n"
     ]
    }
   ],
   "source": [
    "Dummy_GHG=search_DR.fit(X_train, y_train['TotalGHGEmissions'])\n",
    "\n",
    "print('neg_mean_squared_error: %.3f' % Dummy_GHG.best_score_)\n",
    "print('r2_score:',pd.DataFrame(Dummy_GHG.cv_results_)[pd.DataFrame(Dummy_GHG.cv_results_)['rank_test_neg_mean_squared_error']==1][:1]['mean_test_r2'])"
   ]
  },
  {
   "cell_type": "code",
   "execution_count": 322,
   "id": "df7b614f",
   "metadata": {},
   "outputs": [
    {
     "data": {
      "text/plain": [
       "{'model__regressor__strategy': 'median'}"
      ]
     },
     "execution_count": 322,
     "metadata": {},
     "output_type": "execute_result"
    }
   ],
   "source": [
    " Dummy_GHG.best_params_"
   ]
  },
  {
   "cell_type": "markdown",
   "id": "4670e88f",
   "metadata": {},
   "source": [
    "## Linear Regression"
   ]
  },
  {
   "cell_type": "code",
   "execution_count": 46,
   "id": "8acb3b2a",
   "metadata": {},
   "outputs": [],
   "source": [
    "Transformed_LR=TransformedTargetRegressor(\n",
    "                               regressor=LinearRegression(), \n",
    "                                func=np.log, \n",
    "                               inverse_func=np.exp)\n",
    "pipeline_LR = Pipeline(\n",
    "    steps=[(\"preprocessor\", preprocessor), (\"model\", Transformed_LR)]   \n",
    "                      )\n",
    "\n",
    "parameters_LR ={}\n",
    "parameters_LR['model__regressor__fit_intercept']=(True,False)\n",
    "parameters_LR['model__regressor__normalize']=(True,False)\n",
    "\n",
    "\n",
    "search_LR=GridSearchCV(pipeline_LR,parameters_LR, scoring=('r2','neg_mean_squared_error'), cv=5,refit='neg_mean_squared_error')"
   ]
  },
  {
   "cell_type": "markdown",
   "id": "64eb2eef",
   "metadata": {},
   "source": [
    "### SiteEnergyUse(kBtu)"
   ]
  },
  {
   "cell_type": "code",
   "execution_count": 327,
   "id": "0c2e9d73",
   "metadata": {
    "scrolled": false
   },
   "outputs": [
    {
     "name": "stdout",
     "output_type": "stream",
     "text": [
      "neg_mean_squared_error: -5037768350524413.000\n",
      "r2_score: 0   -46.350076\n",
      "Name: mean_test_r2, dtype: float64\n"
     ]
    }
   ],
   "source": [
    "Linear_SEU=search_LR.fit(X_train, y_train['SiteEnergyUse(kBtu)'])\n",
    "\n",
    "print('neg_mean_squared_error: %.3f' % Linear_SEU.best_score_)\n",
    "print('r2_score:',pd.DataFrame(Linear_SEU.cv_results_)[pd.DataFrame(Linear_SEU.cv_results_)['rank_test_neg_mean_squared_error']==1][:1]['mean_test_r2'])"
   ]
  },
  {
   "cell_type": "code",
   "execution_count": 328,
   "id": "dd8d26a9",
   "metadata": {},
   "outputs": [
    {
     "data": {
      "text/plain": [
       "{'model__regressor__fit_intercept': True, 'model__regressor__normalize': True}"
      ]
     },
     "execution_count": 328,
     "metadata": {},
     "output_type": "execute_result"
    }
   ],
   "source": [
    "Linear_SEU.best_params_"
   ]
  },
  {
   "cell_type": "markdown",
   "id": "b9abca6f",
   "metadata": {},
   "source": [
    "###  TotalGHGEmissions"
   ]
  },
  {
   "cell_type": "code",
   "execution_count": 325,
   "id": "37aefb70",
   "metadata": {},
   "outputs": [
    {
     "name": "stdout",
     "output_type": "stream",
     "text": [
      "neg_mean_squared_error: -351146.514\n",
      "r2_score: 2   -12.606732\n",
      "Name: mean_test_r2, dtype: float64\n"
     ]
    }
   ],
   "source": [
    "Linear_GHG=search_LR.fit(X_train, y_train['TotalGHGEmissions'])\n",
    "\n",
    "print('neg_mean_squared_error: %.3f' % Linear_GHG.best_score_)\n",
    "\n",
    "print('r2_score:',pd.DataFrame(Linear_GHG.cv_results_)[pd.DataFrame(Linear_GHG.cv_results_)['rank_test_neg_mean_squared_error']==1][:1]['mean_test_r2'])"
   ]
  },
  {
   "cell_type": "code",
   "execution_count": 326,
   "id": "feb55b98",
   "metadata": {},
   "outputs": [
    {
     "data": {
      "text/plain": [
       "{'model__regressor__fit_intercept': False, 'model__regressor__normalize': True}"
      ]
     },
     "execution_count": 326,
     "metadata": {},
     "output_type": "execute_result"
    }
   ],
   "source": [
    "Linear_GHG.best_params_"
   ]
  },
  {
   "cell_type": "markdown",
   "id": "7d329baf",
   "metadata": {},
   "source": [
    "## Elastic Net"
   ]
  },
  {
   "cell_type": "code",
   "execution_count": 49,
   "id": "d6e77286",
   "metadata": {},
   "outputs": [],
   "source": [
    "Transformed_EN=TransformedTargetRegressor(\n",
    "                               regressor=ElasticNet(), \n",
    "                                func=np.log, \n",
    "                               inverse_func=np.exp)\n",
    "pipeline_EN = Pipeline(\n",
    "    steps=[(\"preprocessor\", preprocessor), (\"model\", Transformed_EN)]   \n",
    "                      )\n",
    "\n",
    "parameters_EN ={}\n",
    "#parameters_EN['model__regressor__alpha'] = [0.00001, 0.0001, 0.001, 0.01, 0.1, 0.0, 1.0, 10.0, 100.0]\n",
    "#parameters_EN['model__regressor__l1_ratio']=[0,0.5,1]\n",
    "parameters_EN['model__regressor__fit_intercept']=(True,False)\n",
    "#parameters_EN['model__regressor__max_iter']=[10000]\n",
    "\n",
    "search_EN=GridSearchCV(pipeline_EN,parameters_EN, scoring=('r2','neg_mean_squared_error'), cv=5,refit='neg_mean_squared_error')"
   ]
  },
  {
   "cell_type": "markdown",
   "id": "250d02d9",
   "metadata": {},
   "source": [
    "### SiteEnergyUse(kBtu)"
   ]
  },
  {
   "cell_type": "code",
   "execution_count": 305,
   "id": "92126418",
   "metadata": {
    "scrolled": false
   },
   "outputs": [
    {
     "name": "stdout",
     "output_type": "stream",
     "text": [
      "neg_mean_squared_error: -100842652489314.656\n",
      "Config: {'model__regressor__fit_intercept': True}\n",
      "r2_score: 0   -0.085081\n",
      "Name: mean_test_r2, dtype: float64\n"
     ]
    }
   ],
   "source": [
    "Elastic_SEU=search_EN.fit(X_train, y_train['SiteEnergyUse(kBtu)'])\n",
    "\n",
    "print('neg_mean_squared_error: %.3f' % Elastic_SEU.best_score_)\n",
    "print('Config: %s' % Elastic_SEU.best_params_)\n",
    "print('r2_score:',pd.DataFrame(Elastic_SEU.cv_results_)[pd.DataFrame(Elastic_SEU.cv_results_)['rank_test_neg_mean_squared_error']==1][:1]['mean_test_r2'])"
   ]
  },
  {
   "cell_type": "markdown",
   "id": "4628ec91",
   "metadata": {},
   "source": [
    "###  TotalGHGEmissions"
   ]
  },
  {
   "cell_type": "code",
   "execution_count": 306,
   "id": "658410cb",
   "metadata": {},
   "outputs": [
    {
     "name": "stdout",
     "output_type": "stream",
     "text": [
      "neg_mean_squared_error: -20265.990\n",
      "Config: {'model__regressor__fit_intercept': True}\n",
      "r2_score: 0    0.075699\n",
      "Name: mean_test_r2, dtype: float64\n"
     ]
    }
   ],
   "source": [
    "Elastic_GHG=search_EN.fit(X_train, y_train['TotalGHGEmissions'])\n",
    "\n",
    "print('neg_mean_squared_error: %.3f' % Elastic_GHG.best_score_)\n",
    "print('Config: %s' % Elastic_GHG.best_params_)\n",
    "print('r2_score:',pd.DataFrame(Elastic_GHG.cv_results_)[pd.DataFrame(Elastic_GHG.cv_results_)['rank_test_neg_mean_squared_error']==1][:1]['mean_test_r2'])"
   ]
  },
  {
   "cell_type": "markdown",
   "id": "9b78bddb",
   "metadata": {},
   "source": [
    "## Random Forest Regression"
   ]
  },
  {
   "cell_type": "code",
   "execution_count": 329,
   "id": "1ccfc7f4",
   "metadata": {},
   "outputs": [],
   "source": [
    "Transformed_RFR=TransformedTargetRegressor(\n",
    "                               regressor=RandomForestRegressor(), \n",
    "                                func=np.log, \n",
    "                               inverse_func=np.exp)\n",
    "pipeline_RFR = Pipeline(\n",
    "    steps=[(\"preprocessor\", preprocessor), (\"model\", Transformed_RFR)]   \n",
    "                      )\n",
    "\n",
    "parameters_RFR ={}\n",
    "# Number of trees in random forest\n",
    "#parameters_RFR['model__regressor__n_estimators'] = [int(x) for x in np.linspace(start = 200, stop = 1000, num = 5)]\n",
    "# Number of features to consider at every split\n",
    "#parameters_RFR['model__regressor__max_features'] = ['auto', 'sqrt']\n",
    "# Maximum number of levels in tree\n",
    "parameters_RFR['model__regressor__max_depth'] = [int(x) for x in np.linspace(10, 50, num = 2)]\n",
    "parameters_RFR['model__regressor__max_depth'].append(None)\n",
    "# Minimum number of samples required to split a node\n",
    "parameters_RFR['model__regressor__min_samples_split'] = [2, 5, 10]\n",
    "# Minimum number of samples required at each leaf node\n",
    "parameters_RFR['model__regressor__min_samples_leaf'] = [1, 2, 4]\n",
    "# Method of selecting samples for training each tree\n",
    "parameters_RFR['model__regressor__bootstrap'] = [True, False]\n",
    "\n",
    "\n",
    "\n",
    "search_RFR=GridSearchCV(pipeline_RFR,parameters_RFR, scoring=('r2','neg_mean_squared_error'), cv=5,refit='neg_mean_squared_error')\n",
    "#features_importance\n",
    "#feature_importance = search_RFR.best_estimator_.regressor_.feature_importances\n",
    "#search_RFR.best_estimator_.feature_name_in"
   ]
  },
  {
   "cell_type": "markdown",
   "id": "cbe49287",
   "metadata": {},
   "source": [
    "### SiteEnergyUse(kBtu)"
   ]
  },
  {
   "cell_type": "code",
   "execution_count": 330,
   "id": "16f593a8",
   "metadata": {
    "scrolled": false
   },
   "outputs": [
    {
     "name": "stdout",
     "output_type": "stream",
     "text": [
      "neg_mean_squared_error: -30103697505502.688\n",
      "Config: {'model__regressor__bootstrap': True, 'model__regressor__max_depth': 50, 'model__regressor__min_samples_leaf': 1, 'model__regressor__min_samples_split': 10}\n"
     ]
    }
   ],
   "source": [
    "RandomForest_SEU=search_RFR.fit(X_train, y_train['SiteEnergyUse(kBtu)'])\n",
    "\n",
    "print('neg_mean_squared_error: %.3f' % RandomForest_SEU.best_score_)\n",
    "print('Config: %s' % RandomForest_SEU.best_params_)"
   ]
  },
  {
   "cell_type": "code",
   "execution_count": 331,
   "id": "2dcac39f",
   "metadata": {},
   "outputs": [
    {
     "name": "stdout",
     "output_type": "stream",
     "text": [
      "r2_score: 11    0.628378\n",
      "Name: mean_test_r2, dtype: float64\n"
     ]
    }
   ],
   "source": [
    "print('r2_score:',pd.DataFrame(RandomForest_SEU.cv_results_)[pd.DataFrame(RandomForest_SEU.cv_results_)['rank_test_neg_mean_squared_error']==1][:1]['mean_test_r2'])"
   ]
  },
  {
   "cell_type": "code",
   "execution_count": 332,
   "id": "5b224a77",
   "metadata": {},
   "outputs": [
    {
     "name": "stderr",
     "output_type": "stream",
     "text": [
      "C:\\Users\\Kfoury\\AppData\\Local\\Temp/ipykernel_2164/1809191144.py:30: UserWarning: Transformer scaler (type RobustScaler) does not provide get_feature_names. Will return input column names if available\n",
      "  warnings.warn(\"Transformer %s (type %s) does not \"\n"
     ]
    },
    {
     "data": {
      "text/plain": [
       "(array([ 0,  1,  2,  3,  4,  5,  6,  7,  8,  9, 10, 11, 12]),\n",
       " [Text(0, 0, 'num__PropertyGFATotal'),\n",
       "  Text(1, 0, 'num__RelPropertyGFAParking'),\n",
       "  Text(2, 0, 'num__RelPropertyGFABuilding(s)'),\n",
       "  Text(3, 0, 'num__PropertyGFATotalPerBuild'),\n",
       "  Text(4, 0, 'num__PropertyGFATotalPerFloor'),\n",
       "  Text(5, 0, 'num__Distance_From_Center'),\n",
       "  Text(6, 0, 'num__Age'),\n",
       "  Text(7, 0, 'num__NumberofFloors'),\n",
       "  Text(8, 0, 'num__NumberofBuildings'),\n",
       "  Text(9, 0, 'cat__Neighborhood'),\n",
       "  Text(10, 0, 'cat__CouncilDistrictCode'),\n",
       "  Text(11, 0, 'cat__BuildingType'),\n",
       "  Text(12, 0, 'cat__PrimaryPropertyType')])"
      ]
     },
     "execution_count": 332,
     "metadata": {},
     "output_type": "execute_result"
    },
    {
     "data": {
      "image/png": "[encoded data removed]",
      "text/plain": [
       "<Figure size 432x288 with 1 Axes>"
      ]
     },
     "metadata": {
      "needs_background": "light"
     },
     "output_type": "display_data"
    }
   ],
   "source": [
    "feature_importance =RandomForest_SEU.best_estimator_.named_steps['model'].regressor_.feature_importances_\n",
    "feature_names=get_feature_names(RandomForest_SEU.best_estimator_.named_steps['preprocessor'])\n",
    "sns.barplot(x=feature_names,y=feature_importance)\n",
    "plt.xticks(rotation=90)"
   ]
  },
  {
   "cell_type": "code",
   "execution_count": 333,
   "id": "723ea0f1",
   "metadata": {},
   "outputs": [
    {
     "name": "stdout",
     "output_type": "stream",
     "text": [
      "R2 Score: 0.19062070100252115\n",
      "Mean squared error: 37318292810090.9\n"
     ]
    },
    {
     "data": {
      "image/png": "[encoded data removed]",
      "text/plain": [
       "<Figure size 360x360 with 1 Axes>"
      ]
     },
     "metadata": {
      "needs_background": "light"
     },
     "output_type": "display_data"
    }
   ],
   "source": [
    "plot=sns.relplot(x=RandomForest_SEU.predict(X_test),y=y_test['SiteEnergyUse(kBtu)'].values)\n",
    "plot.ax.axline(xy1=(0,0),slope=1,dashes=(5,2))\n",
    "print('R2 Score:',r2_score(RandomForest_SEU.predict(X_test),y_test['SiteEnergyUse(kBtu)']))\n",
    "print('Mean squared error:',mean_squared_error(RandomForest_SEU.predict(X_test),y_test['SiteEnergyUse(kBtu)']))\n"
   ]
  },
  {
   "cell_type": "markdown",
   "id": "a9d99185",
   "metadata": {},
   "source": [
    "###  TotalGHGEmissions"
   ]
  },
  {
   "cell_type": "code",
   "execution_count": 334,
   "id": "1bb4f89a",
   "metadata": {},
   "outputs": [
    {
     "name": "stdout",
     "output_type": "stream",
     "text": [
      "neg_mean_squared_error: -12760.648\n",
      "Config: {'model__regressor__bootstrap': True, 'model__regressor__max_depth': 50, 'model__regressor__min_samples_leaf': 2, 'model__regressor__min_samples_split': 2}\n"
     ]
    }
   ],
   "source": [
    "RandomForest_GHG=search_RFR.fit(X_train, y_train['TotalGHGEmissions'])\n",
    "\n",
    "print('neg_mean_squared_error: %.3f' % RandomForest_GHG.best_score_)\n",
    "print('Config: %s' % RandomForest_GHG.best_params_)"
   ]
  },
  {
   "cell_type": "code",
   "execution_count": 338,
   "id": "ae90442d",
   "metadata": {},
   "outputs": [
    {
     "data": {
      "text/plain": [
       "{'model__regressor__bootstrap': True,\n",
       " 'model__regressor__max_depth': 50,\n",
       " 'model__regressor__min_samples_leaf': 2,\n",
       " 'model__regressor__min_samples_split': 2}"
      ]
     },
     "execution_count": 338,
     "metadata": {},
     "output_type": "execute_result"
    }
   ],
   "source": [
    "RandomForest_GHG.best_params_"
   ]
  },
  {
   "cell_type": "code",
   "execution_count": 335,
   "id": "aaa1d774",
   "metadata": {},
   "outputs": [
    {
     "name": "stdout",
     "output_type": "stream",
     "text": [
      "r2_score: 12    0.411224\n",
      "Name: mean_test_r2, dtype: float64\n"
     ]
    }
   ],
   "source": [
    "print('r2_score:',pd.DataFrame(RandomForest_GHG.cv_results_)[pd.DataFrame(RandomForest_GHG.cv_results_)['rank_test_neg_mean_squared_error']==1][:1]['mean_test_r2'])"
   ]
  },
  {
   "cell_type": "code",
   "execution_count": 336,
   "id": "688d3266",
   "metadata": {},
   "outputs": [
    {
     "name": "stderr",
     "output_type": "stream",
     "text": [
      "C:\\Users\\Kfoury\\AppData\\Local\\Temp/ipykernel_2164/1809191144.py:30: UserWarning: Transformer scaler (type RobustScaler) does not provide get_feature_names. Will return input column names if available\n",
      "  warnings.warn(\"Transformer %s (type %s) does not \"\n"
     ]
    },
    {
     "data": {
      "text/plain": [
       "(array([ 0,  1,  2,  3,  4,  5,  6,  7,  8,  9, 10, 11, 12]),\n",
       " [Text(0, 0, 'num__PropertyGFATotal'),\n",
       "  Text(1, 0, 'num__RelPropertyGFAParking'),\n",
       "  Text(2, 0, 'num__RelPropertyGFABuilding(s)'),\n",
       "  Text(3, 0, 'num__PropertyGFATotalPerBuild'),\n",
       "  Text(4, 0, 'num__PropertyGFATotalPerFloor'),\n",
       "  Text(5, 0, 'num__Distance_From_Center'),\n",
       "  Text(6, 0, 'num__Age'),\n",
       "  Text(7, 0, 'num__NumberofFloors'),\n",
       "  Text(8, 0, 'num__NumberofBuildings'),\n",
       "  Text(9, 0, 'cat__Neighborhood'),\n",
       "  Text(10, 0, 'cat__CouncilDistrictCode'),\n",
       "  Text(11, 0, 'cat__BuildingType'),\n",
       "  Text(12, 0, 'cat__PrimaryPropertyType')])"
      ]
     },
     "execution_count": 336,
     "metadata": {},
     "output_type": "execute_result"
    },
    {
     "data": {
      "image/png": "[encoded data removed]",
      "text/plain": [
       "<Figure size 432x288 with 1 Axes>"
      ]
     },
     "metadata": {
      "needs_background": "light"
     },
     "output_type": "display_data"
    }
   ],
   "source": [
    "feature_importance = RandomForest_GHG.best_estimator_.named_steps['model'].regressor_.feature_importances_\n",
    "feature_names=get_feature_names(RandomForest_GHG.best_estimator_.named_steps['preprocessor'])\n",
    "sns.barplot(x=feature_names,y=feature_importance)\n",
    "plt.xticks(rotation=90)"
   ]
  },
  {
   "cell_type": "code",
   "execution_count": 337,
   "id": "2db6ad6e",
   "metadata": {},
   "outputs": [
    {
     "data": {
      "text/plain": [
       "<matplotlib.lines._AxLine at 0x16f4231d4f0>"
      ]
     },
     "execution_count": 337,
     "metadata": {},
     "output_type": "execute_result"
    },
    {
     "data": {
      "image/png": "[encoded data removed]",
      "text/plain": [
       "<Figure size 360x360 with 1 Axes>"
      ]
     },
     "metadata": {
      "needs_background": "light"
     },
     "output_type": "display_data"
    }
   ],
   "source": [
    "plot=sns.relplot(x=RandomForest_GHG.predict(X_test),y=y_test['TotalGHGEmissions'].values)\n",
    "plot.ax.axline(xy1=(0,0),slope=1,dashes=(5,2))"
   ]
  },
  {
   "cell_type": "markdown",
   "id": "58f84d71",
   "metadata": {},
   "source": [
    "# With EnergyStarScore"
   ]
  },
  {
   "cell_type": "markdown",
   "id": "954208ce",
   "metadata": {},
   "source": [
    "## Train Test Split "
   ]
  },
  {
   "cell_type": "code",
   "execution_count": 254,
   "id": "10b829fc",
   "metadata": {},
   "outputs": [],
   "source": [
    "Transformed_RFR_EN=TransformedTargetRegressor(\n",
    "                               regressor=RandomForestRegressor(), \n",
    "                                func=np.log, \n",
    "                               inverse_func=np.exp)\n",
    "pipeline_RFR_EN = Pipeline(\n",
    "    steps=[(\"preprocessor\", preprocessor_EN), (\"model\", Transformed_RFR_EN)]   \n",
    "                      )\n",
    "numeric_features_EN = ['PropertyGFATotal', 'RelPropertyGFAParking','RelPropertyGFABuilding(s)',\n",
    "                    'PropertyGFATotalPerBuild','PropertyGFATotalPerFloor',\n",
    "                    'Distance_From_Center','Age','NumberofFloors','NumberofBuildings','ENERGYSTARScore']\n",
    "numeric_transformer_EN = Pipeline(\n",
    "    steps=[(\"scaler\", RobustScaler())]\n",
    "                              )\n",
    "\n",
    "# Categorical features\n",
    "categorical_features_EN = ['Neighborhood','CouncilDistrictCode','BuildingType','PrimaryPropertyType']\n",
    "categorical_transformer_EN =TargetEncoder()\n",
    "preprocessor_EN = ColumnTransformer(\n",
    "                                 transformers=[\n",
    "                                               (\"num\", numeric_transformer_EN, numeric_features_EN),\n",
    "                                               (\"cat\", categorical_transformer_EN, categorical_features_EN),\n",
    "                                              ]\n",
    "                                )\n",
    "\n",
    "X_train_EN, X_test_EN, y_train_EN, y_test_EN = train_test_split(X_ENERGYSTARScore, Y_ENERGYSTARScore, test_size=0.2, random_state=0)"
   ]
  },
  {
   "cell_type": "code",
   "execution_count": 255,
   "id": "7388b6c7",
   "metadata": {},
   "outputs": [],
   "source": [
    "search_RFR_ENERGYSTARScore=GridSearchCV(pipeline_RFR_EN,parameters_RFR, scoring=('r2','neg_mean_squared_error'), cv=5,refit='neg_mean_squared_error')"
   ]
  },
  {
   "cell_type": "markdown",
   "id": "273f7f5e",
   "metadata": {},
   "source": [
    "### SiteEnergyUse(kBtu)"
   ]
  },
  {
   "cell_type": "code",
   "execution_count": 256,
   "id": "ff161c6f",
   "metadata": {
    "scrolled": false
   },
   "outputs": [
    {
     "name": "stdout",
     "output_type": "stream",
     "text": [
      "neg_mean_squared_error: -25676221516339.754\n",
      "Config: {'model__regressor__bootstrap': True, 'model__regressor__max_depth': 10, 'model__regressor__min_samples_leaf': 1, 'model__regressor__min_samples_split': 5}\n"
     ]
    }
   ],
   "source": [
    "RandomForest_SEU_EN=search_RFR_ENERGYSTARScore.fit(X_train_EN, y_train_EN['SiteEnergyUse(kBtu)'])\n",
    "\n",
    "print('neg_mean_squared_error: %.3f' % RandomForest_SEU_EN.best_score_)\n",
    "print('Config: %s' % RandomForest_SEU_EN.best_params_)"
   ]
  },
  {
   "cell_type": "code",
   "execution_count": null,
   "id": "8db57803",
   "metadata": {},
   "outputs": [],
   "source": [
    "RandomForest_SEU_EN.best_params_"
   ]
  },
  {
   "cell_type": "code",
   "execution_count": 315,
   "id": "1297b774",
   "metadata": {},
   "outputs": [
    {
     "name": "stdout",
     "output_type": "stream",
     "text": [
      "r2_score: 4    0.501276\n",
      "Name: mean_test_r2, dtype: float64\n"
     ]
    }
   ],
   "source": [
    "print('r2_score:',pd.DataFrame(RandomForest_SEU_EN.cv_results_)[pd.DataFrame(RandomForest_SEU_EN.cv_results_)['rank_test_neg_mean_squared_error']==1][:1]['mean_test_r2'])"
   ]
  },
  {
   "cell_type": "code",
   "execution_count": 257,
   "id": "910194c8",
   "metadata": {},
   "outputs": [
    {
     "name": "stderr",
     "output_type": "stream",
     "text": [
      "C:\\Users\\Kfoury\\AppData\\Local\\Temp/ipykernel_2164/1809191144.py:30: UserWarning: Transformer scaler (type RobustScaler) does not provide get_feature_names. Will return input column names if available\n",
      "  warnings.warn(\"Transformer %s (type %s) does not \"\n"
     ]
    },
    {
     "data": {
      "text/plain": [
       "(array([ 0,  1,  2,  3,  4,  5,  6,  7,  8,  9, 10, 11, 12, 13]),\n",
       " [Text(0, 0, 'num__PropertyGFATotal'),\n",
       "  Text(1, 0, 'num__RelPropertyGFAParking'),\n",
       "  Text(2, 0, 'num__RelPropertyGFABuilding(s)'),\n",
       "  Text(3, 0, 'num__PropertyGFATotalPerBuild'),\n",
       "  Text(4, 0, 'num__PropertyGFATotalPerFloor'),\n",
       "  Text(5, 0, 'num__Distance_From_Center'),\n",
       "  Text(6, 0, 'num__Age'),\n",
       "  Text(7, 0, 'num__NumberofFloors'),\n",
       "  Text(8, 0, 'num__NumberofBuildings'),\n",
       "  Text(9, 0, 'num__ENERGYSTARScore'),\n",
       "  Text(10, 0, 'cat__Neighborhood'),\n",
       "  Text(11, 0, 'cat__CouncilDistrictCode'),\n",
       "  Text(12, 0, 'cat__BuildingType'),\n",
       "  Text(13, 0, 'cat__PrimaryPropertyType')])"
      ]
     },
     "execution_count": 257,
     "metadata": {},
     "output_type": "execute_result"
    },
    {
     "data": {
      "image/png": "[encoded data removed]",
      "text/plain": [
       "<Figure size 432x288 with 1 Axes>"
      ]
     },
     "metadata": {
      "needs_background": "light"
     },
     "output_type": "display_data"
    }
   ],
   "source": [
    "feature_importance = RandomForest_SEU_EN.best_estimator_.named_steps['model'].regressor_.feature_importances_\n",
    "feature_names=get_feature_names(RandomForest_SEU_EN.best_estimator_.named_steps['preprocessor'])\n",
    "sns.barplot(x=feature_names,y=feature_importance)\n",
    "plt.xticks(rotation=90)"
   ]
  },
  {
   "cell_type": "code",
   "execution_count": 258,
   "id": "4fb144a1",
   "metadata": {},
   "outputs": [
    {
     "data": {
      "text/plain": [
       "<matplotlib.lines._AxLine at 0x16f423c7550>"
      ]
     },
     "execution_count": 258,
     "metadata": {},
     "output_type": "execute_result"
    },
    {
     "data": {
      "image/png": "[encoded data removed]",
      "text/plain": [
       "<Figure size 360x360 with 1 Axes>"
      ]
     },
     "metadata": {
      "needs_background": "light"
     },
     "output_type": "display_data"
    }
   ],
   "source": [
    "plot=sns.relplot(x=RandomForest_SEU_EN.predict(X_test_EN),y=y_test_EN['SiteEnergyUse(kBtu)'].values)\n",
    "plot.ax.axline(xy1=(0,0),slope=1,dashes=(5,2))"
   ]
  },
  {
   "cell_type": "markdown",
   "id": "7bd92b86",
   "metadata": {},
   "source": [
    "###  TotalGHGEmissions"
   ]
  },
  {
   "cell_type": "code",
   "execution_count": 313,
   "id": "b535eb52",
   "metadata": {},
   "outputs": [
    {
     "name": "stdout",
     "output_type": "stream",
     "text": [
      "neg_mean_squared_error: -10718.590\n",
      "Config: {'model__regressor__bootstrap': True, 'model__regressor__max_depth': 10, 'model__regressor__min_samples_leaf': 2, 'model__regressor__min_samples_split': 5}\n"
     ]
    }
   ],
   "source": [
    "RandomForest_GHG_EN=search_RFR_ENERGYSTARScore.fit(X_train_EN, y_train_EN['TotalGHGEmissions'])\n",
    "print('neg_mean_squared_error: %.3f' % RandomForest_GHG_EN.best_score_)\n",
    "print('Config: %s' % RandomForest_GHG_EN.best_params_)"
   ]
  },
  {
   "cell_type": "code",
   "execution_count": 314,
   "id": "7b493934",
   "metadata": {},
   "outputs": [
    {
     "name": "stdout",
     "output_type": "stream",
     "text": [
      "r2_score: 4    0.501276\n",
      "Name: mean_test_r2, dtype: float64\n"
     ]
    }
   ],
   "source": [
    "print('r2_score:',pd.DataFrame(RandomForest_GHG_EN.cv_results_)[pd.DataFrame(RandomForest_GHG_EN.cv_results_)['rank_test_neg_mean_squared_error']==1][:1]['mean_test_r2'])"
   ]
  },
  {
   "cell_type": "code",
   "execution_count": 260,
   "id": "dcf63534",
   "metadata": {},
   "outputs": [
    {
     "name": "stderr",
     "output_type": "stream",
     "text": [
      "C:\\Users\\Kfoury\\AppData\\Local\\Temp/ipykernel_2164/1809191144.py:30: UserWarning: Transformer scaler (type RobustScaler) does not provide get_feature_names. Will return input column names if available\n",
      "  warnings.warn(\"Transformer %s (type %s) does not \"\n"
     ]
    },
    {
     "data": {
      "text/plain": [
       "(array([ 0,  1,  2,  3,  4,  5,  6,  7,  8,  9, 10, 11, 12, 13]),\n",
       " [Text(0, 0, 'num__PropertyGFATotal'),\n",
       "  Text(1, 0, 'num__RelPropertyGFAParking'),\n",
       "  Text(2, 0, 'num__RelPropertyGFABuilding(s)'),\n",
       "  Text(3, 0, 'num__PropertyGFATotalPerBuild'),\n",
       "  Text(4, 0, 'num__PropertyGFATotalPerFloor'),\n",
       "  Text(5, 0, 'num__Distance_From_Center'),\n",
       "  Text(6, 0, 'num__Age'),\n",
       "  Text(7, 0, 'num__NumberofFloors'),\n",
       "  Text(8, 0, 'num__NumberofBuildings'),\n",
       "  Text(9, 0, 'num__ENERGYSTARScore'),\n",
       "  Text(10, 0, 'cat__Neighborhood'),\n",
       "  Text(11, 0, 'cat__CouncilDistrictCode'),\n",
       "  Text(12, 0, 'cat__BuildingType'),\n",
       "  Text(13, 0, 'cat__PrimaryPropertyType')])"
      ]
     },
     "execution_count": 260,
     "metadata": {},
     "output_type": "execute_result"
    },
    {
     "data": {
      "image/png": "[encoded data removed]",
      "text/plain": [
       "<Figure size 432x288 with 1 Axes>"
      ]
     },
     "metadata": {
      "needs_background": "light"
     },
     "output_type": "display_data"
    }
   ],
   "source": [
    "feature_importance = RandomForest_GHG_EN.best_estimator_.named_steps['model'].regressor_.feature_importances_\n",
    "feature_names=get_feature_names(RandomForest_GHG_EN.best_estimator_.named_steps['preprocessor'])\n",
    "sns.barplot(x=feature_names,y=feature_importance)\n",
    "plt.xticks(rotation=90)"
   ]
  },
  {
   "cell_type": "code",
   "execution_count": 261,
   "id": "67ae021c",
   "metadata": {},
   "outputs": [
    {
     "data": {
      "text/plain": [
       "<matplotlib.lines._AxLine at 0x16f4243d370>"
      ]
     },
     "execution_count": 261,
     "metadata": {},
     "output_type": "execute_result"
    },
    {
     "data": {
      "image/png": "[encoded data removed]",
      "text/plain": [
       "<Figure size 360x360 with 1 Axes>"
      ]
     },
     "metadata": {
      "needs_background": "light"
     },
     "output_type": "display_data"
    }
   ],
   "source": [
    "plot=sns.relplot(x=RandomForest_GHG_EN.predict(X_test_EN),y=y_test_EN['SiteEnergyUse(kBtu)'].values)\n",
    "plot.ax.axline(xy1=(0,0),slope=1,dashes=(5,2))"
   ]
  }
 ],
 "metadata": {
  "kernelspec": {
   "display_name": "Python 3 (ipykernel)",
   "language": "python",
   "name": "python3"
  },
  "language_info": {
   "codemirror_mode": {
    "name": "ipython",
    "version": 3
   },
   "file_extension": ".py",
   "mimetype": "text/x-python",
   "name": "python",
   "nbconvert_exporter": "python",
   "pygments_lexer": "ipython3",
   "version": "3.9.7"
  }
 },
 "nbformat": 4,
 "nbformat_minor": 5
}
